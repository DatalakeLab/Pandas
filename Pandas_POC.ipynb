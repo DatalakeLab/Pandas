{
  "nbformat": 4,
  "nbformat_minor": 0,
  "metadata": {
    "colab": {
      "name": "Pandas POC.ipynb",
      "provenance": [],
      "authorship_tag": "ABX9TyMVFIvVrWL7MaHRigms5M/T",
      "include_colab_link": true
    },
    "kernelspec": {
      "name": "python3",
      "display_name": "Python 3"
    },
    "language_info": {
      "name": "python"
    }
  },
  "cells": [
    {
      "cell_type": "markdown",
      "metadata": {
        "id": "view-in-github",
        "colab_type": "text"
      },
      "source": [
        "<a href=\"https://colab.research.google.com/github/DatalakeLab/Pandas/blob/main/Pandas_POC.ipynb\" target=\"_parent\"><img src=\"https://colab.research.google.com/assets/colab-badge.svg\" alt=\"Open In Colab\"/></a>"
      ]
    },
    {
      "cell_type": "code",
      "metadata": {
        "colab": {
          "base_uri": "https://localhost:8080/",
          "height": 769
        },
        "id": "lIxXR4gddY70",
        "outputId": "281ce85f-eb17-44d9-e46a-c39d9f1e3a5a"
      },
      "source": [
        "!pip install \"ipython>=7\""
      ],
      "execution_count": 25,
      "outputs": [
        {
          "output_type": "stream",
          "text": [
            "Collecting ipython>=7\n",
            "  Downloading ipython-7.27.0-py3-none-any.whl (787 kB)\n",
            "\u001b[?25l\r\u001b[K     |▍                               | 10 kB 22.1 MB/s eta 0:00:01\r\u001b[K     |▉                               | 20 kB 26.1 MB/s eta 0:00:01\r\u001b[K     |█▎                              | 30 kB 28.4 MB/s eta 0:00:01\r\u001b[K     |█▋                              | 40 kB 30.0 MB/s eta 0:00:01\r\u001b[K     |██                              | 51 kB 31.6 MB/s eta 0:00:01\r\u001b[K     |██▌                             | 61 kB 32.8 MB/s eta 0:00:01\r\u001b[K     |███                             | 71 kB 22.1 MB/s eta 0:00:01\r\u001b[K     |███▎                            | 81 kB 23.6 MB/s eta 0:00:01\r\u001b[K     |███▊                            | 92 kB 24.4 MB/s eta 0:00:01\r\u001b[K     |████▏                           | 102 kB 26.0 MB/s eta 0:00:01\r\u001b[K     |████▋                           | 112 kB 26.0 MB/s eta 0:00:01\r\u001b[K     |█████                           | 122 kB 26.0 MB/s eta 0:00:01\r\u001b[K     |█████▍                          | 133 kB 26.0 MB/s eta 0:00:01\r\u001b[K     |█████▉                          | 143 kB 26.0 MB/s eta 0:00:01\r\u001b[K     |██████▎                         | 153 kB 26.0 MB/s eta 0:00:01\r\u001b[K     |██████▋                         | 163 kB 26.0 MB/s eta 0:00:01\r\u001b[K     |███████                         | 174 kB 26.0 MB/s eta 0:00:01\r\u001b[K     |███████▌                        | 184 kB 26.0 MB/s eta 0:00:01\r\u001b[K     |████████                        | 194 kB 26.0 MB/s eta 0:00:01\r\u001b[K     |████████▎                       | 204 kB 26.0 MB/s eta 0:00:01\r\u001b[K     |████████▊                       | 215 kB 26.0 MB/s eta 0:00:01\r\u001b[K     |█████████▏                      | 225 kB 26.0 MB/s eta 0:00:01\r\u001b[K     |█████████▋                      | 235 kB 26.0 MB/s eta 0:00:01\r\u001b[K     |██████████                      | 245 kB 26.0 MB/s eta 0:00:01\r\u001b[K     |██████████▍                     | 256 kB 26.0 MB/s eta 0:00:01\r\u001b[K     |██████████▉                     | 266 kB 26.0 MB/s eta 0:00:01\r\u001b[K     |███████████▎                    | 276 kB 26.0 MB/s eta 0:00:01\r\u001b[K     |███████████▋                    | 286 kB 26.0 MB/s eta 0:00:01\r\u001b[K     |████████████                    | 296 kB 26.0 MB/s eta 0:00:01\r\u001b[K     |████████████▌                   | 307 kB 26.0 MB/s eta 0:00:01\r\u001b[K     |█████████████                   | 317 kB 26.0 MB/s eta 0:00:01\r\u001b[K     |█████████████▎                  | 327 kB 26.0 MB/s eta 0:00:01\r\u001b[K     |█████████████▊                  | 337 kB 26.0 MB/s eta 0:00:01\r\u001b[K     |██████████████▏                 | 348 kB 26.0 MB/s eta 0:00:01\r\u001b[K     |██████████████▌                 | 358 kB 26.0 MB/s eta 0:00:01\r\u001b[K     |███████████████                 | 368 kB 26.0 MB/s eta 0:00:01\r\u001b[K     |███████████████▍                | 378 kB 26.0 MB/s eta 0:00:01\r\u001b[K     |███████████████▉                | 389 kB 26.0 MB/s eta 0:00:01\r\u001b[K     |████████████████▏               | 399 kB 26.0 MB/s eta 0:00:01\r\u001b[K     |████████████████▋               | 409 kB 26.0 MB/s eta 0:00:01\r\u001b[K     |█████████████████               | 419 kB 26.0 MB/s eta 0:00:01\r\u001b[K     |█████████████████▌              | 430 kB 26.0 MB/s eta 0:00:01\r\u001b[K     |█████████████████▉              | 440 kB 26.0 MB/s eta 0:00:01\r\u001b[K     |██████████████████▎             | 450 kB 26.0 MB/s eta 0:00:01\r\u001b[K     |██████████████████▊             | 460 kB 26.0 MB/s eta 0:00:01\r\u001b[K     |███████████████████▏            | 471 kB 26.0 MB/s eta 0:00:01\r\u001b[K     |███████████████████▌            | 481 kB 26.0 MB/s eta 0:00:01\r\u001b[K     |████████████████████            | 491 kB 26.0 MB/s eta 0:00:01\r\u001b[K     |████████████████████▍           | 501 kB 26.0 MB/s eta 0:00:01\r\u001b[K     |████████████████████▉           | 512 kB 26.0 MB/s eta 0:00:01\r\u001b[K     |█████████████████████▏          | 522 kB 26.0 MB/s eta 0:00:01\r\u001b[K     |█████████████████████▋          | 532 kB 26.0 MB/s eta 0:00:01\r\u001b[K     |██████████████████████          | 542 kB 26.0 MB/s eta 0:00:01\r\u001b[K     |██████████████████████▌         | 552 kB 26.0 MB/s eta 0:00:01\r\u001b[K     |██████████████████████▉         | 563 kB 26.0 MB/s eta 0:00:01\r\u001b[K     |███████████████████████▎        | 573 kB 26.0 MB/s eta 0:00:01\r\u001b[K     |███████████████████████▊        | 583 kB 26.0 MB/s eta 0:00:01\r\u001b[K     |████████████████████████▏       | 593 kB 26.0 MB/s eta 0:00:01\r\u001b[K     |████████████████████████▌       | 604 kB 26.0 MB/s eta 0:00:01\r\u001b[K     |█████████████████████████       | 614 kB 26.0 MB/s eta 0:00:01\r\u001b[K     |█████████████████████████▍      | 624 kB 26.0 MB/s eta 0:00:01\r\u001b[K     |█████████████████████████▉      | 634 kB 26.0 MB/s eta 0:00:01\r\u001b[K     |██████████████████████████▏     | 645 kB 26.0 MB/s eta 0:00:01\r\u001b[K     |██████████████████████████▋     | 655 kB 26.0 MB/s eta 0:00:01\r\u001b[K     |███████████████████████████     | 665 kB 26.0 MB/s eta 0:00:01\r\u001b[K     |███████████████████████████▌    | 675 kB 26.0 MB/s eta 0:00:01\r\u001b[K     |███████████████████████████▉    | 686 kB 26.0 MB/s eta 0:00:01\r\u001b[K     |████████████████████████████▎   | 696 kB 26.0 MB/s eta 0:00:01\r\u001b[K     |████████████████████████████▊   | 706 kB 26.0 MB/s eta 0:00:01\r\u001b[K     |█████████████████████████████   | 716 kB 26.0 MB/s eta 0:00:01\r\u001b[K     |█████████████████████████████▌  | 727 kB 26.0 MB/s eta 0:00:01\r\u001b[K     |██████████████████████████████  | 737 kB 26.0 MB/s eta 0:00:01\r\u001b[K     |██████████████████████████████▍ | 747 kB 26.0 MB/s eta 0:00:01\r\u001b[K     |██████████████████████████████▊ | 757 kB 26.0 MB/s eta 0:00:01\r\u001b[K     |███████████████████████████████▏| 768 kB 26.0 MB/s eta 0:00:01\r\u001b[K     |███████████████████████████████▋| 778 kB 26.0 MB/s eta 0:00:01\r\u001b[K     |████████████████████████████████| 787 kB 26.0 MB/s \n",
            "\u001b[?25hRequirement already satisfied: setuptools>=18.5 in /usr/local/lib/python3.7/dist-packages (from ipython>=7) (57.4.0)\n",
            "Requirement already satisfied: jedi>=0.16 in /usr/local/lib/python3.7/dist-packages (from ipython>=7) (0.18.0)\n",
            "Requirement already satisfied: traitlets>=4.2 in /usr/local/lib/python3.7/dist-packages (from ipython>=7) (5.0.5)\n",
            "Requirement already satisfied: backcall in /usr/local/lib/python3.7/dist-packages (from ipython>=7) (0.2.0)\n",
            "Requirement already satisfied: pexpect>4.3 in /usr/local/lib/python3.7/dist-packages (from ipython>=7) (4.8.0)\n",
            "Requirement already satisfied: matplotlib-inline in /usr/local/lib/python3.7/dist-packages (from ipython>=7) (0.1.2)\n",
            "Requirement already satisfied: decorator in /usr/local/lib/python3.7/dist-packages (from ipython>=7) (4.4.2)\n",
            "Requirement already satisfied: pygments in /usr/local/lib/python3.7/dist-packages (from ipython>=7) (2.6.1)\n",
            "Requirement already satisfied: pickleshare in /usr/local/lib/python3.7/dist-packages (from ipython>=7) (0.7.5)\n",
            "Collecting prompt-toolkit!=3.0.0,!=3.0.1,<3.1.0,>=2.0.0\n",
            "  Downloading prompt_toolkit-3.0.20-py3-none-any.whl (370 kB)\n",
            "\u001b[K     |████████████████████████████████| 370 kB 48.9 MB/s \n",
            "\u001b[?25hRequirement already satisfied: parso<0.9.0,>=0.8.0 in /usr/local/lib/python3.7/dist-packages (from jedi>=0.16->ipython>=7) (0.8.2)\n",
            "Requirement already satisfied: ptyprocess>=0.5 in /usr/local/lib/python3.7/dist-packages (from pexpect>4.3->ipython>=7) (0.7.0)\n",
            "Requirement already satisfied: wcwidth in /usr/local/lib/python3.7/dist-packages (from prompt-toolkit!=3.0.0,!=3.0.1,<3.1.0,>=2.0.0->ipython>=7) (0.2.5)\n",
            "Requirement already satisfied: ipython-genutils in /usr/local/lib/python3.7/dist-packages (from traitlets>=4.2->ipython>=7) (0.2.0)\n",
            "Installing collected packages: prompt-toolkit, ipython\n",
            "  Attempting uninstall: prompt-toolkit\n",
            "    Found existing installation: prompt-toolkit 1.0.18\n",
            "    Uninstalling prompt-toolkit-1.0.18:\n",
            "      Successfully uninstalled prompt-toolkit-1.0.18\n",
            "  Attempting uninstall: ipython\n",
            "    Found existing installation: ipython 5.5.0\n",
            "    Uninstalling ipython-5.5.0:\n",
            "      Successfully uninstalled ipython-5.5.0\n",
            "\u001b[31mERROR: pip's dependency resolver does not currently take into account all the packages that are installed. This behaviour is the source of the following dependency conflicts.\n",
            "jupyter-console 5.2.0 requires prompt-toolkit<2.0.0,>=1.0.0, but you have prompt-toolkit 3.0.20 which is incompatible.\n",
            "google-colab 1.0.0 requires ipython~=5.5.0, but you have ipython 7.27.0 which is incompatible.\n",
            "google-colab 1.0.0 requires pandas~=1.1.0; python_version >= \"3.0\", but you have pandas 1.3.2 which is incompatible.\n",
            "google-colab 1.0.0 requires requests~=2.23.0, but you have requests 2.26.0 which is incompatible.\u001b[0m\n",
            "Successfully installed ipython-7.27.0 prompt-toolkit-3.0.20\n"
          ],
          "name": "stdout"
        },
        {
          "output_type": "display_data",
          "data": {
            "application/vnd.colab-display-data+json": {
              "pip_warning": {
                "packages": [
                  "IPython",
                  "prompt_toolkit"
                ]
              }
            }
          },
          "metadata": {}
        }
      ]
    },
    {
      "cell_type": "code",
      "metadata": {
        "colab": {
          "base_uri": "https://localhost:8080/"
        },
        "id": "NyeAeNb8Zqae",
        "outputId": "568c9fcd-996b-4efc-e868-5d3161c9e31d"
      },
      "source": [
        "!pip install dask[dataframe]"
      ],
      "execution_count": 1,
      "outputs": [
        {
          "output_type": "stream",
          "text": [
            "Requirement already satisfied: dask[dataframe] in /usr/local/lib/python3.7/dist-packages (2.12.0)\n",
            "Requirement already satisfied: fsspec>=0.6.0 in /usr/local/lib/python3.7/dist-packages (from dask[dataframe]) (2021.7.0)\n",
            "Requirement already satisfied: partd>=0.3.10 in /usr/local/lib/python3.7/dist-packages (from dask[dataframe]) (1.2.0)\n",
            "Requirement already satisfied: pandas>=0.23.0 in /usr/local/lib/python3.7/dist-packages (from dask[dataframe]) (1.3.2)\n",
            "Requirement already satisfied: numpy>=1.13.0 in /usr/local/lib/python3.7/dist-packages (from dask[dataframe]) (1.19.5)\n",
            "Requirement already satisfied: toolz>=0.7.3 in /usr/local/lib/python3.7/dist-packages (from dask[dataframe]) (0.11.1)\n",
            "Requirement already satisfied: python-dateutil>=2.7.3 in /usr/local/lib/python3.7/dist-packages (from pandas>=0.23.0->dask[dataframe]) (2.8.2)\n",
            "Requirement already satisfied: pytz>=2017.3 in /usr/local/lib/python3.7/dist-packages (from pandas>=0.23.0->dask[dataframe]) (2018.9)\n",
            "Requirement already satisfied: locket in /usr/local/lib/python3.7/dist-packages (from partd>=0.3.10->dask[dataframe]) (0.2.1)\n",
            "Requirement already satisfied: six>=1.5 in /usr/local/lib/python3.7/dist-packages (from python-dateutil>=2.7.3->pandas>=0.23.0->dask[dataframe]) (1.15.0)\n"
          ],
          "name": "stdout"
        }
      ]
    },
    {
      "cell_type": "code",
      "metadata": {
        "colab": {
          "base_uri": "https://localhost:8080/",
          "height": 1000
        },
        "id": "BHw6O-ASZ2LA",
        "outputId": "fe44c8a6-87f2-48eb-96d4-926f8aa638df"
      },
      "source": [
        "!pip install modin[ray]"
      ],
      "execution_count": 4,
      "outputs": [
        {
          "output_type": "stream",
          "text": [
            "Collecting modin[ray]\n",
            "  Downloading modin-0.10.2-py3-none-manylinux1_x86_64.whl (715 kB)\n",
            "\u001b[K     |████████████████████████████████| 715 kB 28.1 MB/s \n",
            "\u001b[?25hCollecting pandas==1.3.2\n",
            "  Downloading pandas-1.3.2-cp37-cp37m-manylinux_2_17_x86_64.manylinux2014_x86_64.whl (11.3 MB)\n",
            "\u001b[K     |████████████████████████████████| 11.3 MB 28 kB/s \n",
            "\u001b[?25hRequirement already satisfied: numpy>=1.16.5 in /usr/local/lib/python3.7/dist-packages (from modin[ray]) (1.19.5)\n",
            "Requirement already satisfied: packaging in /usr/local/lib/python3.7/dist-packages (from modin[ray]) (21.0)\n",
            "Collecting ray[default]>=1.4.0\n",
            "  Downloading ray-1.6.0-cp37-cp37m-manylinux2014_x86_64.whl (49.6 MB)\n",
            "\u001b[K     |████████████████████████████████| 49.6 MB 5.4 kB/s \n",
            "\u001b[?25hRequirement already satisfied: pyarrow>=1.0 in /usr/local/lib/python3.7/dist-packages (from modin[ray]) (3.0.0)\n",
            "Requirement already satisfied: python-dateutil>=2.7.3 in /usr/local/lib/python3.7/dist-packages (from pandas==1.3.2->modin[ray]) (2.8.2)\n",
            "Requirement already satisfied: pytz>=2017.3 in /usr/local/lib/python3.7/dist-packages (from pandas==1.3.2->modin[ray]) (2018.9)\n",
            "Requirement already satisfied: six>=1.5 in /usr/local/lib/python3.7/dist-packages (from python-dateutil>=2.7.3->pandas==1.3.2->modin[ray]) (1.15.0)\n",
            "Requirement already satisfied: pyyaml in /usr/local/lib/python3.7/dist-packages (from ray[default]>=1.4.0->modin[ray]) (3.13)\n",
            "Requirement already satisfied: filelock in /usr/local/lib/python3.7/dist-packages (from ray[default]>=1.4.0->modin[ray]) (3.0.12)\n",
            "Requirement already satisfied: grpcio>=1.28.1 in /usr/local/lib/python3.7/dist-packages (from ray[default]>=1.4.0->modin[ray]) (1.39.0)\n",
            "Requirement already satisfied: attrs in /usr/local/lib/python3.7/dist-packages (from ray[default]>=1.4.0->modin[ray]) (21.2.0)\n",
            "Requirement already satisfied: protobuf>=3.15.3 in /usr/local/lib/python3.7/dist-packages (from ray[default]>=1.4.0->modin[ray]) (3.17.3)\n",
            "Collecting redis>=3.5.0\n",
            "  Downloading redis-3.5.3-py2.py3-none-any.whl (72 kB)\n",
            "\u001b[K     |████████████████████████████████| 72 kB 629 kB/s \n",
            "\u001b[?25hRequirement already satisfied: click>=7.0 in /usr/local/lib/python3.7/dist-packages (from ray[default]>=1.4.0->modin[ray]) (7.1.2)\n",
            "Requirement already satisfied: msgpack<2.0.0,>=1.0.0 in /usr/local/lib/python3.7/dist-packages (from ray[default]>=1.4.0->modin[ray]) (1.0.2)\n",
            "Requirement already satisfied: requests in /usr/local/lib/python3.7/dist-packages (from ray[default]>=1.4.0->modin[ray]) (2.23.0)\n",
            "Collecting opencensus\n",
            "  Downloading opencensus-0.7.13-py2.py3-none-any.whl (127 kB)\n",
            "\u001b[K     |████████████████████████████████| 127 kB 77.4 MB/s \n",
            "\u001b[?25hRequirement already satisfied: prometheus-client>=0.7.1 in /usr/local/lib/python3.7/dist-packages (from ray[default]>=1.4.0->modin[ray]) (0.11.0)\n",
            "Collecting colorful\n",
            "  Downloading colorful-0.5.4-py2.py3-none-any.whl (201 kB)\n",
            "\u001b[K     |████████████████████████████████| 201 kB 72.5 MB/s \n",
            "\u001b[?25hCollecting aiohttp-cors\n",
            "  Downloading aiohttp_cors-0.7.0-py3-none-any.whl (27 kB)\n",
            "Collecting aiohttp\n",
            "  Downloading aiohttp-3.7.4.post0-cp37-cp37m-manylinux2014_x86_64.whl (1.3 MB)\n",
            "\u001b[K     |████████████████████████████████| 1.3 MB 48.3 MB/s \n",
            "\u001b[?25hCollecting py-spy>=0.2.0\n",
            "  Downloading py_spy-0.3.8-py2.py3-none-manylinux_2_5_x86_64.manylinux1_x86_64.whl (3.1 MB)\n",
            "\u001b[K     |████████████████████████████████| 3.1 MB 74.4 MB/s \n",
            "\u001b[?25hCollecting aioredis<2\n",
            "  Downloading aioredis-1.3.1-py3-none-any.whl (65 kB)\n",
            "\u001b[K     |████████████████████████████████| 65 kB 4.1 MB/s \n",
            "\u001b[?25hRequirement already satisfied: jsonschema in /usr/local/lib/python3.7/dist-packages (from ray[default]>=1.4.0->modin[ray]) (2.6.0)\n",
            "Collecting gpustat\n",
            "  Downloading gpustat-0.6.0.tar.gz (78 kB)\n",
            "\u001b[K     |████████████████████████████████| 78 kB 7.2 MB/s \n",
            "\u001b[?25hCollecting hiredis\n",
            "  Downloading hiredis-2.0.0-cp37-cp37m-manylinux2010_x86_64.whl (85 kB)\n",
            "\u001b[K     |████████████████████████████████| 85 kB 4.2 MB/s \n",
            "\u001b[?25hCollecting async-timeout\n",
            "  Downloading async_timeout-3.0.1-py3-none-any.whl (8.2 kB)\n",
            "Requirement already satisfied: typing-extensions>=3.6.5 in /usr/local/lib/python3.7/dist-packages (from aiohttp->ray[default]>=1.4.0->modin[ray]) (3.7.4.3)\n",
            "Collecting yarl<2.0,>=1.0\n",
            "  Downloading yarl-1.6.3-cp37-cp37m-manylinux2014_x86_64.whl (294 kB)\n",
            "\u001b[K     |████████████████████████████████| 294 kB 52.6 MB/s \n",
            "\u001b[?25hCollecting multidict<7.0,>=4.5\n",
            "  Downloading multidict-5.1.0-cp37-cp37m-manylinux2014_x86_64.whl (142 kB)\n",
            "\u001b[K     |████████████████████████████████| 142 kB 57.4 MB/s \n",
            "\u001b[?25hRequirement already satisfied: chardet<5.0,>=2.0 in /usr/local/lib/python3.7/dist-packages (from aiohttp->ray[default]>=1.4.0->modin[ray]) (3.0.4)\n",
            "Requirement already satisfied: idna>=2.0 in /usr/local/lib/python3.7/dist-packages (from yarl<2.0,>=1.0->aiohttp->ray[default]>=1.4.0->modin[ray]) (2.10)\n",
            "Requirement already satisfied: nvidia-ml-py3>=7.352.0 in /usr/local/lib/python3.7/dist-packages (from gpustat->ray[default]>=1.4.0->modin[ray]) (7.352.0)\n",
            "Requirement already satisfied: psutil in /usr/local/lib/python3.7/dist-packages (from gpustat->ray[default]>=1.4.0->modin[ray]) (5.4.8)\n",
            "Collecting blessings>=1.6\n",
            "  Downloading blessings-1.7-py3-none-any.whl (18 kB)\n",
            "Requirement already satisfied: google-api-core<2.0.0,>=1.0.0 in /usr/local/lib/python3.7/dist-packages (from opencensus->ray[default]>=1.4.0->modin[ray]) (1.26.3)\n",
            "Collecting opencensus-context==0.1.2\n",
            "  Downloading opencensus_context-0.1.2-py2.py3-none-any.whl (4.4 kB)\n",
            "Requirement already satisfied: googleapis-common-protos<2.0dev,>=1.6.0 in /usr/local/lib/python3.7/dist-packages (from google-api-core<2.0.0,>=1.0.0->opencensus->ray[default]>=1.4.0->modin[ray]) (1.53.0)\n",
            "Requirement already satisfied: setuptools>=40.3.0 in /usr/local/lib/python3.7/dist-packages (from google-api-core<2.0.0,>=1.0.0->opencensus->ray[default]>=1.4.0->modin[ray]) (57.4.0)\n",
            "Requirement already satisfied: google-auth<2.0dev,>=1.21.1 in /usr/local/lib/python3.7/dist-packages (from google-api-core<2.0.0,>=1.0.0->opencensus->ray[default]>=1.4.0->modin[ray]) (1.34.0)\n",
            "Requirement already satisfied: cachetools<5.0,>=2.0.0 in /usr/local/lib/python3.7/dist-packages (from google-auth<2.0dev,>=1.21.1->google-api-core<2.0.0,>=1.0.0->opencensus->ray[default]>=1.4.0->modin[ray]) (4.2.2)\n",
            "Requirement already satisfied: pyasn1-modules>=0.2.1 in /usr/local/lib/python3.7/dist-packages (from google-auth<2.0dev,>=1.21.1->google-api-core<2.0.0,>=1.0.0->opencensus->ray[default]>=1.4.0->modin[ray]) (0.2.8)\n",
            "Requirement already satisfied: rsa<5,>=3.1.4 in /usr/local/lib/python3.7/dist-packages (from google-auth<2.0dev,>=1.21.1->google-api-core<2.0.0,>=1.0.0->opencensus->ray[default]>=1.4.0->modin[ray]) (4.7.2)\n",
            "Requirement already satisfied: pyparsing>=2.0.2 in /usr/local/lib/python3.7/dist-packages (from packaging->modin[ray]) (2.4.7)\n",
            "Requirement already satisfied: pyasn1<0.5.0,>=0.4.6 in /usr/local/lib/python3.7/dist-packages (from pyasn1-modules>=0.2.1->google-auth<2.0dev,>=1.21.1->google-api-core<2.0.0,>=1.0.0->opencensus->ray[default]>=1.4.0->modin[ray]) (0.4.8)\n",
            "Requirement already satisfied: certifi>=2017.4.17 in /usr/local/lib/python3.7/dist-packages (from requests->ray[default]>=1.4.0->modin[ray]) (2021.5.30)\n",
            "Requirement already satisfied: urllib3!=1.25.0,!=1.25.1,<1.26,>=1.21.1 in /usr/local/lib/python3.7/dist-packages (from requests->ray[default]>=1.4.0->modin[ray]) (1.24.3)\n",
            "Building wheels for collected packages: gpustat\n",
            "  Building wheel for gpustat (setup.py) ... \u001b[?25l\u001b[?25hdone\n",
            "  Created wheel for gpustat: filename=gpustat-0.6.0-py3-none-any.whl size=12617 sha256=9cc19da2c107f50bdb4c08f3d46e650a9c6efd6b1d063793e204fb27398c36f9\n",
            "  Stored in directory: /root/.cache/pip/wheels/e6/67/af/f1ad15974b8fd95f59a63dbf854483ebe5c7a46a93930798b8\n",
            "Successfully built gpustat\n",
            "Installing collected packages: multidict, yarl, async-timeout, redis, opencensus-context, hiredis, blessings, aiohttp, ray, py-spy, pandas, opencensus, gpustat, colorful, aioredis, aiohttp-cors, modin\n",
            "  Attempting uninstall: pandas\n",
            "    Found existing installation: pandas 1.1.5\n",
            "    Uninstalling pandas-1.1.5:\n",
            "      Successfully uninstalled pandas-1.1.5\n",
            "\u001b[31mERROR: pip's dependency resolver does not currently take into account all the packages that are installed. This behaviour is the source of the following dependency conflicts.\n",
            "google-colab 1.0.0 requires pandas~=1.1.0; python_version >= \"3.0\", but you have pandas 1.3.2 which is incompatible.\u001b[0m\n",
            "Successfully installed aiohttp-3.7.4.post0 aiohttp-cors-0.7.0 aioredis-1.3.1 async-timeout-3.0.1 blessings-1.7 colorful-0.5.4 gpustat-0.6.0 hiredis-2.0.0 modin-0.10.2 multidict-5.1.0 opencensus-0.7.13 opencensus-context-0.1.2 pandas-1.3.2 py-spy-0.3.8 ray-1.6.0 redis-3.5.3 yarl-1.6.3\n"
          ],
          "name": "stdout"
        },
        {
          "output_type": "display_data",
          "data": {
            "application/vnd.colab-display-data+json": {
              "pip_warning": {
                "packages": [
                  "pandas"
                ]
              }
            }
          },
          "metadata": {}
        }
      ]
    },
    {
      "cell_type": "code",
      "metadata": {
        "colab": {
          "base_uri": "https://localhost:8080/",
          "height": 1000
        },
        "id": "RsiAaqyiaN0b",
        "outputId": "eec9f3a3-6a86-4f1d-86ea-9fec23e5b3fd"
      },
      "source": [
        "!pip install vaex\n"
      ],
      "execution_count": 2,
      "outputs": [
        {
          "output_type": "stream",
          "text": [
            "Collecting vaex\n",
            "  Downloading vaex-4.4.0-py3-none-any.whl (4.6 kB)\n",
            "Collecting vaex-core<5,>=4.4.0\n",
            "  Downloading vaex_core-4.4.0-cp37-cp37m-manylinux2010_x86_64.whl (2.5 MB)\n",
            "\u001b[K     |████████████████████████████████| 2.5 MB 25.7 MB/s \n",
            "\u001b[?25hCollecting vaex-viz<0.6,>=0.5.0\n",
            "  Downloading vaex_viz-0.5.0-py3-none-any.whl (19 kB)\n",
            "Collecting vaex-server<0.7,>=0.6.0\n",
            "  Downloading vaex_server-0.6.0-py3-none-any.whl (22 kB)\n",
            "Collecting vaex-hdf5<0.10,>=0.9.0\n",
            "  Downloading vaex_hdf5-0.9.0-py3-none-any.whl (15 kB)\n",
            "Collecting vaex-astro<0.9,>=0.8.3\n",
            "  Downloading vaex_astro-0.8.3-py3-none-any.whl (20 kB)\n",
            "Collecting vaex-jupyter<0.7,>=0.6.0\n",
            "  Downloading vaex_jupyter-0.6.0-py3-none-any.whl (42 kB)\n",
            "\u001b[K     |████████████████████████████████| 42 kB 805 kB/s \n",
            "\u001b[?25hCollecting vaex-ml<0.14,>=0.13.0\n",
            "  Downloading vaex_ml-0.13.0-py3-none-any.whl (104 kB)\n",
            "\u001b[K     |████████████████████████████████| 104 kB 54.4 MB/s \n",
            "\u001b[?25hRequirement already satisfied: astropy in /usr/local/lib/python3.7/dist-packages (from vaex-astro<0.9,>=0.8.3->vaex) (4.3.1)\n",
            "Requirement already satisfied: requests in /usr/local/lib/python3.7/dist-packages (from vaex-core<5,>=4.4.0->vaex) (2.23.0)\n",
            "Requirement already satisfied: cloudpickle in /usr/local/lib/python3.7/dist-packages (from vaex-core<5,>=4.4.0->vaex) (1.3.0)\n",
            "Requirement already satisfied: pandas in /usr/local/lib/python3.7/dist-packages (from vaex-core<5,>=4.4.0->vaex) (1.3.2)\n",
            "Collecting blake3\n",
            "  Downloading blake3-0.2.0-cp37-cp37m-manylinux_2_5_x86_64.manylinux1_x86_64.whl (952 kB)\n",
            "\u001b[K     |████████████████████████████████| 952 kB 54.4 MB/s \n",
            "\u001b[?25hRequirement already satisfied: dask in /usr/local/lib/python3.7/dist-packages (from vaex-core<5,>=4.4.0->vaex) (2.12.0)\n",
            "Requirement already satisfied: nest-asyncio>=1.3.3 in /usr/local/lib/python3.7/dist-packages (from vaex-core<5,>=4.4.0->vaex) (1.5.1)\n",
            "Collecting frozendict\n",
            "  Downloading frozendict-2.0.6-py3-none-any.whl (8.3 kB)\n",
            "Requirement already satisfied: numpy>=1.16 in /usr/local/lib/python3.7/dist-packages (from vaex-core<5,>=4.4.0->vaex) (1.19.5)\n",
            "Requirement already satisfied: pyyaml in /usr/local/lib/python3.7/dist-packages (from vaex-core<5,>=4.4.0->vaex) (3.13)\n",
            "Requirement already satisfied: progressbar2 in /usr/local/lib/python3.7/dist-packages (from vaex-core<5,>=4.4.0->vaex) (3.38.0)\n",
            "Requirement already satisfied: six in /usr/local/lib/python3.7/dist-packages (from vaex-core<5,>=4.4.0->vaex) (1.15.0)\n",
            "Requirement already satisfied: pyarrow>=3.0 in /usr/local/lib/python3.7/dist-packages (from vaex-core<5,>=4.4.0->vaex) (3.0.0)\n",
            "Requirement already satisfied: future>=0.15.2 in /usr/local/lib/python3.7/dist-packages (from vaex-core<5,>=4.4.0->vaex) (0.16.0)\n",
            "Collecting aplus\n",
            "  Downloading aplus-0.11.0.tar.gz (3.7 kB)\n",
            "Requirement already satisfied: tabulate>=0.8.3 in /usr/local/lib/python3.7/dist-packages (from vaex-core<5,>=4.4.0->vaex) (0.8.9)\n",
            "Requirement already satisfied: h5py>=2.9 in /usr/local/lib/python3.7/dist-packages (from vaex-hdf5<0.10,>=0.9.0->vaex) (3.1.0)\n",
            "Requirement already satisfied: cached-property in /usr/local/lib/python3.7/dist-packages (from h5py>=2.9->vaex-hdf5<0.10,>=0.9.0->vaex) (1.5.2)\n",
            "Requirement already satisfied: xarray in /usr/local/lib/python3.7/dist-packages (from vaex-jupyter<0.7,>=0.6.0->vaex) (0.18.2)\n",
            "Collecting bqplot>=0.10.1\n",
            "  Downloading bqplot-0.12.30-py2.py3-none-any.whl (1.2 MB)\n",
            "\u001b[K     |████████████████████████████████| 1.2 MB 48.8 MB/s \n",
            "\u001b[?25hCollecting ipyvolume>=0.4\n",
            "  Downloading ipyvolume-0.5.2-py2.py3-none-any.whl (2.9 MB)\n",
            "\u001b[K     |████████████████████████████████| 2.9 MB 44.2 MB/s \n",
            "\u001b[?25hCollecting ipyvuetify<2,>=1.2.2\n",
            "  Downloading ipyvuetify-1.8.1-py2.py3-none-any.whl (11.7 MB)\n",
            "\u001b[K     |████████████████████████████████| 11.7 MB 40.0 MB/s \n",
            "\u001b[?25hCollecting ipyleaflet\n",
            "  Downloading ipyleaflet-0.14.0-py2.py3-none-any.whl (3.3 MB)\n",
            "\u001b[K     |████████████████████████████████| 3.3 MB 50.6 MB/s \n",
            "\u001b[?25hCollecting ipympl\n",
            "  Downloading ipympl-0.7.0-py2.py3-none-any.whl (106 kB)\n",
            "\u001b[K     |████████████████████████████████| 106 kB 73.4 MB/s \n",
            "\u001b[?25hRequirement already satisfied: ipywidgets>=7.5.0 in /usr/local/lib/python3.7/dist-packages (from bqplot>=0.10.1->vaex-jupyter<0.7,>=0.6.0->vaex) (7.6.3)\n",
            "Requirement already satisfied: traitlets>=4.3.0 in /usr/local/lib/python3.7/dist-packages (from bqplot>=0.10.1->vaex-jupyter<0.7,>=0.6.0->vaex) (5.0.5)\n",
            "Collecting traittypes>=0.0.6\n",
            "  Downloading traittypes-0.2.1-py2.py3-none-any.whl (8.6 kB)\n",
            "Requirement already satisfied: Pillow in /usr/local/lib/python3.7/dist-packages (from ipyvolume>=0.4->vaex-jupyter<0.7,>=0.6.0->vaex) (7.1.2)\n",
            "Collecting ipywebrtc\n",
            "  Downloading ipywebrtc-0.6.0-py2.py3-none-any.whl (260 kB)\n",
            "\u001b[K     |████████████████████████████████| 260 kB 67.7 MB/s \n",
            "\u001b[?25hCollecting pythreejs>=1.0.0\n",
            "  Downloading pythreejs-2.3.0-py2.py3-none-any.whl (3.4 MB)\n",
            "\u001b[K     |████████████████████████████████| 3.4 MB 54.1 MB/s \n",
            "\u001b[?25hCollecting ipyvue<2,>=1.5\n",
            "  Downloading ipyvue-1.5.0-py2.py3-none-any.whl (2.7 MB)\n",
            "\u001b[K     |████████████████████████████████| 2.7 MB 71.3 MB/s \n",
            "\u001b[?25hRequirement already satisfied: ipykernel>=4.5.1 in /usr/local/lib/python3.7/dist-packages (from ipywidgets>=7.5.0->bqplot>=0.10.1->vaex-jupyter<0.7,>=0.6.0->vaex) (4.10.1)\n",
            "Requirement already satisfied: widgetsnbextension~=3.5.0 in /usr/local/lib/python3.7/dist-packages (from ipywidgets>=7.5.0->bqplot>=0.10.1->vaex-jupyter<0.7,>=0.6.0->vaex) (3.5.1)\n",
            "Requirement already satisfied: jupyterlab-widgets>=1.0.0 in /usr/local/lib/python3.7/dist-packages (from ipywidgets>=7.5.0->bqplot>=0.10.1->vaex-jupyter<0.7,>=0.6.0->vaex) (1.0.0)\n",
            "Requirement already satisfied: nbformat>=4.2.0 in /usr/local/lib/python3.7/dist-packages (from ipywidgets>=7.5.0->bqplot>=0.10.1->vaex-jupyter<0.7,>=0.6.0->vaex) (5.1.3)\n",
            "Requirement already satisfied: ipython>=4.0.0 in /usr/local/lib/python3.7/dist-packages (from ipywidgets>=7.5.0->bqplot>=0.10.1->vaex-jupyter<0.7,>=0.6.0->vaex) (5.5.0)\n",
            "Requirement already satisfied: jupyter-client in /usr/local/lib/python3.7/dist-packages (from ipykernel>=4.5.1->ipywidgets>=7.5.0->bqplot>=0.10.1->vaex-jupyter<0.7,>=0.6.0->vaex) (5.3.5)\n",
            "Requirement already satisfied: tornado>=4.0 in /usr/local/lib/python3.7/dist-packages (from ipykernel>=4.5.1->ipywidgets>=7.5.0->bqplot>=0.10.1->vaex-jupyter<0.7,>=0.6.0->vaex) (5.1.1)\n",
            "Requirement already satisfied: pygments in /usr/local/lib/python3.7/dist-packages (from ipython>=4.0.0->ipywidgets>=7.5.0->bqplot>=0.10.1->vaex-jupyter<0.7,>=0.6.0->vaex) (2.6.1)\n",
            "Requirement already satisfied: prompt-toolkit<2.0.0,>=1.0.4 in /usr/local/lib/python3.7/dist-packages (from ipython>=4.0.0->ipywidgets>=7.5.0->bqplot>=0.10.1->vaex-jupyter<0.7,>=0.6.0->vaex) (1.0.18)\n",
            "Requirement already satisfied: pickleshare in /usr/local/lib/python3.7/dist-packages (from ipython>=4.0.0->ipywidgets>=7.5.0->bqplot>=0.10.1->vaex-jupyter<0.7,>=0.6.0->vaex) (0.7.5)\n",
            "Requirement already satisfied: setuptools>=18.5 in /usr/local/lib/python3.7/dist-packages (from ipython>=4.0.0->ipywidgets>=7.5.0->bqplot>=0.10.1->vaex-jupyter<0.7,>=0.6.0->vaex) (57.4.0)\n",
            "Requirement already satisfied: simplegeneric>0.8 in /usr/local/lib/python3.7/dist-packages (from ipython>=4.0.0->ipywidgets>=7.5.0->bqplot>=0.10.1->vaex-jupyter<0.7,>=0.6.0->vaex) (0.8.1)\n",
            "Requirement already satisfied: decorator in /usr/local/lib/python3.7/dist-packages (from ipython>=4.0.0->ipywidgets>=7.5.0->bqplot>=0.10.1->vaex-jupyter<0.7,>=0.6.0->vaex) (4.4.2)\n",
            "Requirement already satisfied: pexpect in /usr/local/lib/python3.7/dist-packages (from ipython>=4.0.0->ipywidgets>=7.5.0->bqplot>=0.10.1->vaex-jupyter<0.7,>=0.6.0->vaex) (4.8.0)\n",
            "Requirement already satisfied: ipython-genutils in /usr/local/lib/python3.7/dist-packages (from nbformat>=4.2.0->ipywidgets>=7.5.0->bqplot>=0.10.1->vaex-jupyter<0.7,>=0.6.0->vaex) (0.2.0)\n",
            "Requirement already satisfied: jupyter-core in /usr/local/lib/python3.7/dist-packages (from nbformat>=4.2.0->ipywidgets>=7.5.0->bqplot>=0.10.1->vaex-jupyter<0.7,>=0.6.0->vaex) (4.7.1)\n",
            "Requirement already satisfied: jsonschema!=2.5.0,>=2.4 in /usr/local/lib/python3.7/dist-packages (from nbformat>=4.2.0->ipywidgets>=7.5.0->bqplot>=0.10.1->vaex-jupyter<0.7,>=0.6.0->vaex) (2.6.0)\n",
            "Requirement already satisfied: wcwidth in /usr/local/lib/python3.7/dist-packages (from prompt-toolkit<2.0.0,>=1.0.4->ipython>=4.0.0->ipywidgets>=7.5.0->bqplot>=0.10.1->vaex-jupyter<0.7,>=0.6.0->vaex) (0.2.5)\n",
            "Collecting ipydatawidgets>=1.1.1\n",
            "  Downloading ipydatawidgets-4.2.0-py2.py3-none-any.whl (275 kB)\n",
            "\u001b[K     |████████████████████████████████| 275 kB 73.2 MB/s \n",
            "\u001b[?25hRequirement already satisfied: jinja2 in /usr/local/lib/python3.7/dist-packages (from vaex-ml<0.14,>=0.13.0->vaex) (2.11.3)\n",
            "Requirement already satisfied: numba in /usr/local/lib/python3.7/dist-packages (from vaex-ml<0.14,>=0.13.0->vaex) (0.51.2)\n",
            "Collecting fastapi[all]\n",
            "  Downloading fastapi-0.68.1-py3-none-any.whl (52 kB)\n",
            "\u001b[K     |████████████████████████████████| 52 kB 1.0 MB/s \n",
            "\u001b[?25hRequirement already satisfied: cachetools in /usr/local/lib/python3.7/dist-packages (from vaex-server<0.7,>=0.6.0->vaex) (4.2.2)\n",
            "Requirement already satisfied: matplotlib>=1.3.1 in /usr/local/lib/python3.7/dist-packages (from vaex-viz<0.6,>=0.5.0->vaex) (3.2.2)\n",
            "Requirement already satisfied: pyparsing!=2.0.4,!=2.1.2,!=2.1.6,>=2.0.1 in /usr/local/lib/python3.7/dist-packages (from matplotlib>=1.3.1->vaex-viz<0.6,>=0.5.0->vaex) (2.4.7)\n",
            "Requirement already satisfied: kiwisolver>=1.0.1 in /usr/local/lib/python3.7/dist-packages (from matplotlib>=1.3.1->vaex-viz<0.6,>=0.5.0->vaex) (1.3.1)\n",
            "Requirement already satisfied: python-dateutil>=2.1 in /usr/local/lib/python3.7/dist-packages (from matplotlib>=1.3.1->vaex-viz<0.6,>=0.5.0->vaex) (2.8.2)\n",
            "Requirement already satisfied: cycler>=0.10 in /usr/local/lib/python3.7/dist-packages (from matplotlib>=1.3.1->vaex-viz<0.6,>=0.5.0->vaex) (0.10.0)\n",
            "Requirement already satisfied: notebook>=4.4.1 in /usr/local/lib/python3.7/dist-packages (from widgetsnbextension~=3.5.0->ipywidgets>=7.5.0->bqplot>=0.10.1->vaex-jupyter<0.7,>=0.6.0->vaex) (5.3.1)\n",
            "Requirement already satisfied: nbconvert in /usr/local/lib/python3.7/dist-packages (from notebook>=4.4.1->widgetsnbextension~=3.5.0->ipywidgets>=7.5.0->bqplot>=0.10.1->vaex-jupyter<0.7,>=0.6.0->vaex) (5.6.1)\n",
            "Requirement already satisfied: Send2Trash in /usr/local/lib/python3.7/dist-packages (from notebook>=4.4.1->widgetsnbextension~=3.5.0->ipywidgets>=7.5.0->bqplot>=0.10.1->vaex-jupyter<0.7,>=0.6.0->vaex) (1.8.0)\n",
            "Requirement already satisfied: terminado>=0.8.1 in /usr/local/lib/python3.7/dist-packages (from notebook>=4.4.1->widgetsnbextension~=3.5.0->ipywidgets>=7.5.0->bqplot>=0.10.1->vaex-jupyter<0.7,>=0.6.0->vaex) (0.11.0)\n",
            "Requirement already satisfied: pyzmq>=13 in /usr/local/lib/python3.7/dist-packages (from jupyter-client->ipykernel>=4.5.1->ipywidgets>=7.5.0->bqplot>=0.10.1->vaex-jupyter<0.7,>=0.6.0->vaex) (22.2.1)\n",
            "Requirement already satisfied: ptyprocess in /usr/local/lib/python3.7/dist-packages (from terminado>=0.8.1->notebook>=4.4.1->widgetsnbextension~=3.5.0->ipywidgets>=7.5.0->bqplot>=0.10.1->vaex-jupyter<0.7,>=0.6.0->vaex) (0.7.0)\n",
            "Requirement already satisfied: pyerfa>=1.7.3 in /usr/local/lib/python3.7/dist-packages (from astropy->vaex-astro<0.9,>=0.8.3->vaex) (2.0.0)\n",
            "Requirement already satisfied: importlib-metadata in /usr/local/lib/python3.7/dist-packages (from astropy->vaex-astro<0.9,>=0.8.3->vaex) (4.6.4)\n",
            "Collecting starlette==0.14.2\n",
            "  Downloading starlette-0.14.2-py3-none-any.whl (60 kB)\n",
            "\u001b[K     |████████████████████████████████| 60 kB 7.1 MB/s \n",
            "\u001b[?25hCollecting pydantic!=1.7,!=1.7.1,!=1.7.2,!=1.7.3,!=1.8,!=1.8.1,<2.0.0,>=1.6.2\n",
            "  Downloading pydantic-1.8.2-cp37-cp37m-manylinux2014_x86_64.whl (10.1 MB)\n",
            "\u001b[K     |████████████████████████████████| 10.1 MB 76.1 MB/s \n",
            "\u001b[?25hCollecting uvicorn[standard]<0.14.0,>=0.12.0\n",
            "  Downloading uvicorn-0.13.4-py3-none-any.whl (46 kB)\n",
            "\u001b[K     |████████████████████████████████| 46 kB 3.6 MB/s \n",
            "\u001b[?25hCollecting requests\n",
            "  Downloading requests-2.26.0-py2.py3-none-any.whl (62 kB)\n",
            "\u001b[K     |████████████████████████████████| 62 kB 830 kB/s \n",
            "\u001b[?25hCollecting ujson<5.0.0,>=4.0.1\n",
            "  Downloading ujson-4.1.0-cp37-cp37m-manylinux_2_5_x86_64.manylinux1_x86_64.whl (178 kB)\n",
            "\u001b[K     |████████████████████████████████| 178 kB 76.3 MB/s \n",
            "\u001b[?25hCollecting orjson<4.0.0,>=3.2.1\n",
            "  Downloading orjson-3.6.3-cp37-cp37m-manylinux_2_24_x86_64.whl (234 kB)\n",
            "\u001b[K     |████████████████████████████████| 234 kB 72.0 MB/s \n",
            "\u001b[?25hCollecting email_validator<2.0.0,>=1.1.1\n",
            "  Downloading email_validator-1.1.3-py2.py3-none-any.whl (18 kB)\n",
            "Collecting python-multipart<0.0.6,>=0.0.5\n",
            "  Downloading python-multipart-0.0.5.tar.gz (32 kB)\n",
            "Collecting async_exit_stack<2.0.0,>=1.0.1\n",
            "  Downloading async_exit_stack-1.0.1-py3-none-any.whl (4.7 kB)\n",
            "Requirement already satisfied: itsdangerous<2.0.0,>=1.1.0 in /usr/local/lib/python3.7/dist-packages (from fastapi[all]->vaex-server<0.7,>=0.6.0->vaex) (1.1.0)\n",
            "Collecting graphene<3.0.0,>=2.1.8\n",
            "  Downloading graphene-2.1.9-py2.py3-none-any.whl (107 kB)\n",
            "\u001b[K     |████████████████████████████████| 107 kB 69.7 MB/s \n",
            "\u001b[?25hCollecting aiofiles<0.6.0,>=0.5.0\n",
            "  Downloading aiofiles-0.5.0-py3-none-any.whl (11 kB)\n",
            "Collecting pyyaml\n",
            "  Downloading PyYAML-5.4.1-cp37-cp37m-manylinux1_x86_64.whl (636 kB)\n",
            "\u001b[K     |████████████████████████████████| 636 kB 32.3 MB/s \n",
            "\u001b[?25hCollecting async_generator<2.0.0,>=1.10\n",
            "  Downloading async_generator-1.10-py3-none-any.whl (18 kB)\n",
            "Requirement already satisfied: idna>=2.0.0 in /usr/local/lib/python3.7/dist-packages (from email_validator<2.0.0,>=1.1.1->fastapi[all]->vaex-server<0.7,>=0.6.0->vaex) (2.10)\n",
            "Collecting dnspython>=1.15.0\n",
            "  Downloading dnspython-2.1.0-py3-none-any.whl (241 kB)\n",
            "\u001b[K     |████████████████████████████████| 241 kB 61.0 MB/s \n",
            "\u001b[?25hCollecting aniso8601<=7,>=3\n",
            "  Downloading aniso8601-7.0.0-py2.py3-none-any.whl (42 kB)\n",
            "\u001b[K     |████████████████████████████████| 42 kB 820 kB/s \n",
            "\u001b[?25hCollecting graphql-core<3,>=2.1\n",
            "  Downloading graphql_core-2.3.2-py2.py3-none-any.whl (252 kB)\n",
            "\u001b[K     |████████████████████████████████| 252 kB 61.7 MB/s \n",
            "\u001b[?25hCollecting graphql-relay<3,>=2\n",
            "  Downloading graphql_relay-2.0.1-py3-none-any.whl (20 kB)\n",
            "Requirement already satisfied: promise<3,>=2.3 in /usr/local/lib/python3.7/dist-packages (from graphql-core<3,>=2.1->graphene<3.0.0,>=2.1.8->fastapi[all]->vaex-server<0.7,>=0.6.0->vaex) (2.3)\n",
            "Collecting rx<2,>=1.6\n",
            "  Downloading Rx-1.6.1-py2.py3-none-any.whl (179 kB)\n",
            "\u001b[K     |████████████████████████████████| 179 kB 56.2 MB/s \n",
            "\u001b[?25hRequirement already satisfied: MarkupSafe>=0.23 in /usr/local/lib/python3.7/dist-packages (from jinja2->vaex-ml<0.14,>=0.13.0->vaex) (2.0.1)\n",
            "Requirement already satisfied: typing-extensions>=3.7.4.3 in /usr/local/lib/python3.7/dist-packages (from pydantic!=1.7,!=1.7.1,!=1.7.2,!=1.7.3,!=1.8,!=1.8.1,<2.0.0,>=1.6.2->fastapi[all]->vaex-server<0.7,>=0.6.0->vaex) (3.7.4.3)\n",
            "Requirement already satisfied: urllib3<1.27,>=1.21.1 in /usr/local/lib/python3.7/dist-packages (from requests->vaex-core<5,>=4.4.0->vaex) (1.24.3)\n",
            "Requirement already satisfied: charset-normalizer~=2.0.0 in /usr/local/lib/python3.7/dist-packages (from requests->vaex-core<5,>=4.4.0->vaex) (2.0.4)\n",
            "Requirement already satisfied: certifi>=2017.4.17 in /usr/local/lib/python3.7/dist-packages (from requests->vaex-core<5,>=4.4.0->vaex) (2021.5.30)\n",
            "Requirement already satisfied: click==7.* in /usr/local/lib/python3.7/dist-packages (from uvicorn[standard]<0.14.0,>=0.12.0->fastapi[all]->vaex-server<0.7,>=0.6.0->vaex) (7.1.2)\n",
            "Collecting h11>=0.8\n",
            "  Downloading h11-0.12.0-py3-none-any.whl (54 kB)\n",
            "\u001b[K     |████████████████████████████████| 54 kB 3.5 MB/s \n",
            "\u001b[?25hCollecting websockets==8.*\n",
            "  Downloading websockets-8.1-cp37-cp37m-manylinux2010_x86_64.whl (79 kB)\n",
            "\u001b[K     |████████████████████████████████| 79 kB 6.7 MB/s \n",
            "\u001b[?25hCollecting python-dotenv>=0.13\n",
            "  Downloading python_dotenv-0.19.0-py2.py3-none-any.whl (17 kB)\n",
            "Collecting httptools==0.1.*\n",
            "  Downloading httptools-0.1.2-cp37-cp37m-manylinux1_x86_64.whl (219 kB)\n",
            "\u001b[K     |████████████████████████████████| 219 kB 55.5 MB/s \n",
            "\u001b[?25hCollecting watchgod>=0.6\n",
            "  Downloading watchgod-0.7-py3-none-any.whl (11 kB)\n",
            "Collecting uvloop!=0.15.0,!=0.15.1,>=0.14.0\n",
            "  Downloading uvloop-0.16.0-cp37-cp37m-manylinux_2_12_x86_64.manylinux2010_x86_64.whl (3.8 MB)\n",
            "\u001b[K     |████████████████████████████████| 3.8 MB 75.8 MB/s \n",
            "\u001b[?25hRequirement already satisfied: zipp>=0.5 in /usr/local/lib/python3.7/dist-packages (from importlib-metadata->astropy->vaex-astro<0.9,>=0.8.3->vaex) (3.5.0)\n",
            "Requirement already satisfied: bleach in /usr/local/lib/python3.7/dist-packages (from nbconvert->notebook>=4.4.1->widgetsnbextension~=3.5.0->ipywidgets>=7.5.0->bqplot>=0.10.1->vaex-jupyter<0.7,>=0.6.0->vaex) (4.0.0)\n",
            "Requirement already satisfied: mistune<2,>=0.8.1 in /usr/local/lib/python3.7/dist-packages (from nbconvert->notebook>=4.4.1->widgetsnbextension~=3.5.0->ipywidgets>=7.5.0->bqplot>=0.10.1->vaex-jupyter<0.7,>=0.6.0->vaex) (0.8.4)\n",
            "Requirement already satisfied: entrypoints>=0.2.2 in /usr/local/lib/python3.7/dist-packages (from nbconvert->notebook>=4.4.1->widgetsnbextension~=3.5.0->ipywidgets>=7.5.0->bqplot>=0.10.1->vaex-jupyter<0.7,>=0.6.0->vaex) (0.3)\n",
            "Requirement already satisfied: testpath in /usr/local/lib/python3.7/dist-packages (from nbconvert->notebook>=4.4.1->widgetsnbextension~=3.5.0->ipywidgets>=7.5.0->bqplot>=0.10.1->vaex-jupyter<0.7,>=0.6.0->vaex) (0.5.0)\n",
            "Requirement already satisfied: pandocfilters>=1.4.1 in /usr/local/lib/python3.7/dist-packages (from nbconvert->notebook>=4.4.1->widgetsnbextension~=3.5.0->ipywidgets>=7.5.0->bqplot>=0.10.1->vaex-jupyter<0.7,>=0.6.0->vaex) (1.4.3)\n",
            "Requirement already satisfied: defusedxml in /usr/local/lib/python3.7/dist-packages (from nbconvert->notebook>=4.4.1->widgetsnbextension~=3.5.0->ipywidgets>=7.5.0->bqplot>=0.10.1->vaex-jupyter<0.7,>=0.6.0->vaex) (0.7.1)\n",
            "Requirement already satisfied: webencodings in /usr/local/lib/python3.7/dist-packages (from bleach->nbconvert->notebook>=4.4.1->widgetsnbextension~=3.5.0->ipywidgets>=7.5.0->bqplot>=0.10.1->vaex-jupyter<0.7,>=0.6.0->vaex) (0.5.1)\n",
            "Requirement already satisfied: packaging in /usr/local/lib/python3.7/dist-packages (from bleach->nbconvert->notebook>=4.4.1->widgetsnbextension~=3.5.0->ipywidgets>=7.5.0->bqplot>=0.10.1->vaex-jupyter<0.7,>=0.6.0->vaex) (21.0)\n",
            "Requirement already satisfied: llvmlite<0.35,>=0.34.0.dev0 in /usr/local/lib/python3.7/dist-packages (from numba->vaex-ml<0.14,>=0.13.0->vaex) (0.34.0)\n",
            "Requirement already satisfied: pytz>=2017.3 in /usr/local/lib/python3.7/dist-packages (from pandas->vaex-core<5,>=4.4.0->vaex) (2018.9)\n",
            "Requirement already satisfied: python-utils>=2.3.0 in /usr/local/lib/python3.7/dist-packages (from progressbar2->vaex-core<5,>=4.4.0->vaex) (2.5.6)\n",
            "Building wheels for collected packages: aplus, python-multipart\n",
            "  Building wheel for aplus (setup.py) ... \u001b[?25l\u001b[?25hdone\n",
            "  Created wheel for aplus: filename=aplus-0.11.0-py3-none-any.whl size=4408 sha256=ca807ecfb21413e4101621a85c47db5e3d1507513cb20fe3b7b2d5ea5a7395f6\n",
            "  Stored in directory: /root/.cache/pip/wheels/31/ec/1c/cdb682cb8c1d3d1dca4214e96b4845d6d775f78c1067f1a31f\n",
            "  Building wheel for python-multipart (setup.py) ... \u001b[?25l\u001b[?25hdone\n",
            "  Created wheel for python-multipart: filename=python_multipart-0.0.5-py3-none-any.whl size=31678 sha256=252e97f93bbfe3696f3086768046e97d5662c293b14c0d2107aac4bad9be9a69\n",
            "  Stored in directory: /root/.cache/pip/wheels/2c/41/7c/bfd1c180534ffdcc0972f78c5758f89881602175d48a8bcd2c\n",
            "Successfully built aplus python-multipart\n",
            "Installing collected packages: rx, traittypes, h11, graphql-core, websockets, watchgod, uvloop, uvicorn, starlette, requests, pyyaml, python-dotenv, pydantic, ipydatawidgets, httptools, graphql-relay, frozendict, dnspython, blake3, aplus, aniso8601, vaex-core, ujson, pythreejs, python-multipart, orjson, ipywebrtc, ipyvue, graphene, fastapi, email-validator, async-generator, async-exit-stack, aiofiles, vaex-viz, ipyvuetify, ipyvolume, ipympl, ipyleaflet, bqplot, vaex-server, vaex-ml, vaex-jupyter, vaex-hdf5, vaex-astro, vaex\n",
            "  Attempting uninstall: requests\n",
            "    Found existing installation: requests 2.23.0\n",
            "    Uninstalling requests-2.23.0:\n",
            "      Successfully uninstalled requests-2.23.0\n",
            "  Attempting uninstall: pyyaml\n",
            "    Found existing installation: PyYAML 3.13\n",
            "    Uninstalling PyYAML-3.13:\n",
            "      Successfully uninstalled PyYAML-3.13\n",
            "\u001b[31mERROR: pip's dependency resolver does not currently take into account all the packages that are installed. This behaviour is the source of the following dependency conflicts.\n",
            "google-colab 1.0.0 requires pandas~=1.1.0; python_version >= \"3.0\", but you have pandas 1.3.2 which is incompatible.\n",
            "google-colab 1.0.0 requires requests~=2.23.0, but you have requests 2.26.0 which is incompatible.\n",
            "datascience 0.10.6 requires folium==0.2.1, but you have folium 0.8.3 which is incompatible.\u001b[0m\n",
            "Successfully installed aiofiles-0.5.0 aniso8601-7.0.0 aplus-0.11.0 async-exit-stack-1.0.1 async-generator-1.10 blake3-0.2.0 bqplot-0.12.30 dnspython-2.1.0 email-validator-1.1.3 fastapi-0.68.1 frozendict-2.0.6 graphene-2.1.9 graphql-core-2.3.2 graphql-relay-2.0.1 h11-0.12.0 httptools-0.1.2 ipydatawidgets-4.2.0 ipyleaflet-0.14.0 ipympl-0.7.0 ipyvolume-0.5.2 ipyvue-1.5.0 ipyvuetify-1.8.1 ipywebrtc-0.6.0 orjson-3.6.3 pydantic-1.8.2 python-dotenv-0.19.0 python-multipart-0.0.5 pythreejs-2.3.0 pyyaml-5.4.1 requests-2.26.0 rx-1.6.1 starlette-0.14.2 traittypes-0.2.1 ujson-4.1.0 uvicorn-0.13.4 uvloop-0.16.0 vaex-4.4.0 vaex-astro-0.8.3 vaex-core-4.4.0 vaex-hdf5-0.9.0 vaex-jupyter-0.6.0 vaex-ml-0.13.0 vaex-server-0.6.0 vaex-viz-0.5.0 watchgod-0.7 websockets-8.1\n"
          ],
          "name": "stdout"
        },
        {
          "output_type": "display_data",
          "data": {
            "application/vnd.colab-display-data+json": {
              "pip_warning": {
                "packages": [
                  "yaml"
                ]
              }
            }
          },
          "metadata": {}
        }
      ]
    },
    {
      "cell_type": "code",
      "metadata": {
        "colab": {
          "base_uri": "https://localhost:8080/"
        },
        "id": "_G51CuCEabFp",
        "outputId": "6f186a54-c636-41b1-a13f-8eedc75b8ac7"
      },
      "source": [
        "!pip install pyspark"
      ],
      "execution_count": 2,
      "outputs": [
        {
          "output_type": "stream",
          "text": [
            "Collecting pyspark\n",
            "  Downloading pyspark-3.1.2.tar.gz (212.4 MB)\n",
            "\u001b[K     |████████████████████████████████| 212.4 MB 57 kB/s \n",
            "\u001b[?25hCollecting py4j==0.10.9\n",
            "  Downloading py4j-0.10.9-py2.py3-none-any.whl (198 kB)\n",
            "\u001b[K     |████████████████████████████████| 198 kB 54.0 MB/s \n",
            "\u001b[?25hBuilding wheels for collected packages: pyspark\n",
            "  Building wheel for pyspark (setup.py) ... \u001b[?25l\u001b[?25hdone\n",
            "  Created wheel for pyspark: filename=pyspark-3.1.2-py2.py3-none-any.whl size=212880768 sha256=a785e771cc15bd160f4acc822468a9d23e412834edf60f3b36791c97bcbfe6a5\n",
            "  Stored in directory: /root/.cache/pip/wheels/a5/0a/c1/9561f6fecb759579a7d863dcd846daaa95f598744e71b02c77\n",
            "Successfully built pyspark\n",
            "Installing collected packages: py4j, pyspark\n",
            "Successfully installed py4j-0.10.9 pyspark-3.1.2\n"
          ],
          "name": "stdout"
        }
      ]
    },
    {
      "cell_type": "code",
      "metadata": {
        "id": "bc-nJ8ufZDyZ"
      },
      "source": [
        "import os\n",
        "import sys\n",
        "import gc\n",
        "from time import time, sleep, strftime, localtime\n",
        "\n",
        "import pandas as pd\n",
        "import dask.dataframe as dd\n",
        "import modin.pandas as mpd\n",
        "import vaex\n",
        "from pyspark.sql import SparkSession\n",
        "from pyspark.sql.functions import sum, avg\n",
        "# pandas on ray has moved to Modin\n",
        "# import ray.dataframe as rpd"
      ],
      "execution_count": 2,
      "outputs": []
    },
    {
      "cell_type": "code",
      "metadata": {
        "id": "t7G_3GeCa6mM"
      },
      "source": [
        "folder = \"sample_data\"\n",
        "files = [\"train_transaction.csv\", \"train_identity.csv\"]\n",
        "paths = [os.path.join(folder, f) for f in files]"
      ],
      "execution_count": 3,
      "outputs": []
    },
    {
      "cell_type": "code",
      "metadata": {
        "id": "vDgv-uo6bEPs"
      },
      "source": [
        "stats = {}"
      ],
      "execution_count": 4,
      "outputs": []
    },
    {
      "cell_type": "code",
      "metadata": {
        "colab": {
          "base_uri": "https://localhost:8080/",
          "height": 35
        },
        "id": "FjTqG5wlbG9k",
        "outputId": "eed01956-e53f-4382-be07-9e189bb1f4c4"
      },
      "source": [
        "pd.__version__"
      ],
      "execution_count": 5,
      "outputs": [
        {
          "output_type": "execute_result",
          "data": {
            "application/vnd.google.colaboratory.intrinsic+json": {
              "type": "string"
            },
            "text/plain": [
              "'1.3.2'"
            ]
          },
          "metadata": {},
          "execution_count": 5
        }
      ]
    },
    {
      "cell_type": "code",
      "metadata": {
        "id": "WQW3QK68bMQH"
      },
      "source": [
        "stats[\"pandas\"] = {}\n",
        "s = stats[\"pandas\"]\n",
        "\n",
        "ts = time()\n",
        "df = pd.read_csv(paths[0])\n",
        "te = time()\n",
        "s[\"load_transactions\"] = te-ts\n",
        "\n",
        "ts = time()\n",
        "df2 = pd.read_csv(paths[1])\n",
        "te = time()\n",
        "s[\"load_identity\"] = te-ts\n",
        "\n",
        "ts = time()\n",
        "dff = df.merge(df2, on=\"TransactionID\")\n",
        "te = time()\n",
        "s[\"merge\"] = te-ts\n",
        "\n",
        "ts = time()\n",
        "grp = dff.groupby([\"isFraud\",\"ProductCD\",\"card4\",\"card6\",\"id_15\",\"id_31\"])[\"TransactionAmt\"].agg([\"mean\",\"sum\"])\n",
        "te = time()\n",
        "s[\"aggregation\"] = te-ts\n",
        "\n",
        "ts = time()\n",
        "dff.sort_values(by=[\"card1\",\"addr1\",\"D9\"], inplace=True)\n",
        "dff.sort_values(by=[\"addr1\",\"D9\",\"card1\"], inplace=True)\n",
        "dff.sort_values(by=[\"D9\",\"card1\",\"addr1\"], inplace=True)\n",
        "te = time()\n",
        "s[\"sorting\"] = te-ts\n",
        "\n",
        "ts = time()\n",
        "dff[\"card2\"].value_counts()\n",
        "te = time()\n",
        "s[\"value_counts\"] = te-ts"
      ],
      "execution_count": 6,
      "outputs": []
    },
    {
      "cell_type": "code",
      "metadata": {
        "colab": {
          "base_uri": "https://localhost:8080/",
          "height": 235
        },
        "id": "XLRhSTbQbSGM",
        "outputId": "2e2db7a5-553d-48d3-8f2d-e79d6b06132e"
      },
      "source": [
        "pd.DataFrame(stats)"
      ],
      "execution_count": 7,
      "outputs": [
        {
          "output_type": "execute_result",
          "data": {
            "text/html": [
              "<div>\n",
              "<style scoped>\n",
              "    .dataframe tbody tr th:only-of-type {\n",
              "        vertical-align: middle;\n",
              "    }\n",
              "\n",
              "    .dataframe tbody tr th {\n",
              "        vertical-align: top;\n",
              "    }\n",
              "\n",
              "    .dataframe thead th {\n",
              "        text-align: right;\n",
              "    }\n",
              "</style>\n",
              "<table border=\"1\" class=\"dataframe\">\n",
              "  <thead>\n",
              "    <tr style=\"text-align: right;\">\n",
              "      <th></th>\n",
              "      <th>pandas</th>\n",
              "    </tr>\n",
              "  </thead>\n",
              "  <tbody>\n",
              "    <tr>\n",
              "      <th>aggregation</th>\n",
              "      <td>0.034468</td>\n",
              "    </tr>\n",
              "    <tr>\n",
              "      <th>load_identity</th>\n",
              "      <td>0.539676</td>\n",
              "    </tr>\n",
              "    <tr>\n",
              "      <th>load_transactions</th>\n",
              "      <td>6.983413</td>\n",
              "    </tr>\n",
              "    <tr>\n",
              "      <th>merge</th>\n",
              "      <td>0.740309</td>\n",
              "    </tr>\n",
              "    <tr>\n",
              "      <th>sorting</th>\n",
              "      <td>0.395429</td>\n",
              "    </tr>\n",
              "    <tr>\n",
              "      <th>value_counts</th>\n",
              "      <td>0.001978</td>\n",
              "    </tr>\n",
              "  </tbody>\n",
              "</table>\n",
              "</div>"
            ],
            "text/plain": [
              "                     pandas\n",
              "aggregation        0.034468\n",
              "load_identity      0.539676\n",
              "load_transactions  6.983413\n",
              "merge              0.740309\n",
              "sorting            0.395429\n",
              "value_counts       0.001978"
            ]
          },
          "metadata": {},
          "execution_count": 7
        }
      ]
    },
    {
      "cell_type": "code",
      "metadata": {
        "id": "tHMIhcU6bdRk"
      },
      "source": [
        "dff.to_pickle(\"sample_data/data/dff.pkl\")"
      ],
      "execution_count": 8,
      "outputs": []
    },
    {
      "cell_type": "code",
      "metadata": {
        "colab": {
          "base_uri": "https://localhost:8080/"
        },
        "id": "qBj8swjFbh6s",
        "outputId": "8822101d-2f21-425f-b07f-4192223c4c29"
      },
      "source": [
        "# Because julia groups by including N\\A, let's just check that number of groups matches\n",
        "grp = dff[[\"isFraud\",\"ProductCD\",\"card4\",\"card6\",\"id_15\",\"id_31\",\"TransactionAmt\"]].fillna(\"~U~\")\\\n",
        ".groupby([\"isFraud\",\"ProductCD\",\"card4\",\"card6\",\"id_15\",\"id_31\"])[\"TransactionAmt\"].agg([\"mean\",\"sum\"])\n",
        "grp.shape"
      ],
      "execution_count": 9,
      "outputs": [
        {
          "output_type": "execute_result",
          "data": {
            "text/plain": [
              "(2459, 2)"
            ]
          },
          "metadata": {},
          "execution_count": 9
        }
      ]
    },
    {
      "cell_type": "code",
      "metadata": {
        "id": "d6VRsklybnxm"
      },
      "source": [
        "def clean(wait_time: int=15):\n",
        "    \"\"\"Cleans created DataFrames and call the garbage collector to actions. Wait for 15s by default\"\"\"\n",
        "    df, df2, dff, grp = None, None, None, None\n",
        "    gc.collect()\n",
        "    sleep(wait_time)\n",
        "    return None"
      ],
      "execution_count": 10,
      "outputs": []
    },
    {
      "cell_type": "code",
      "metadata": {
        "id": "ct_Fv83PbqqW"
      },
      "source": [
        "clean()"
      ],
      "execution_count": 11,
      "outputs": []
    },
    {
      "cell_type": "code",
      "metadata": {
        "id": "cEv0xbpKb0p5"
      },
      "source": [
        "def list_variables_memory_usage() -> dict:\n",
        "    \"\"\"Memory of existing local variables\"\"\"\n",
        "    local_vars = list(locals().items())\n",
        "    return {var: sys.getsizeof(obj) for var, obj in local_vars}"
      ],
      "execution_count": 12,
      "outputs": []
    },
    {
      "cell_type": "markdown",
      "metadata": {
        "id": "Wqa-yOtlb3xI"
      },
      "source": [
        "**DASK**"
      ]
    },
    {
      "cell_type": "code",
      "metadata": {
        "id": "Y_8EqYHOb6RA"
      },
      "source": [
        "stats[\"dask\"] = {}\n",
        "s = stats[\"dask\"]\n",
        "\n",
        "ts = time()\n",
        "df = dd.read_csv(paths[0])\n",
        "te = time()\n",
        "s[\"load_transactions\"] = te-ts\n",
        "\n",
        "ts = time()\n",
        "df2 = dd.read_csv(paths[1])\n",
        "te = time()\n",
        "s[\"load_identity\"] = te-ts\n",
        "\n",
        "ts = time()\n",
        "dff = df.merge(df2, on=\"TransactionID\")\n",
        "te = time()\n",
        "s[\"merge\"] = te-ts\n",
        "\n",
        "# the difference is that we call compute method, which runs all the computations at this point\n",
        "ts = time()\n",
        "grp = dff.groupby([\"isFraud\",\"ProductCD\",\"card4\",\"card6\",\"id_15\",\"id_31\"])[\"TransactionAmt\"]\\\n",
        "    .agg([\"mean\",\"sum\"])\\\n",
        "    .compute()\n",
        "te = time()\n",
        "s[\"aggregation\"] = te-ts\n",
        "\n",
        "# parallel sorting is tricky that is why there are only work arounds in dask. \n",
        "ts = time()\n",
        "dfs = dff.set_index(\"card1\").compute()\n",
        "te = time()\n",
        "s[\"sorting\"] = te-ts"
      ],
      "execution_count": 13,
      "outputs": []
    },
    {
      "cell_type": "code",
      "metadata": {
        "colab": {
          "base_uri": "https://localhost:8080/"
        },
        "id": "oR2V-u5xcJDU",
        "outputId": "95043251-a61e-45f0-ba91-6675ff7fe267"
      },
      "source": [
        "type(dff), type(grp), type(dfs)"
      ],
      "execution_count": 14,
      "outputs": [
        {
          "output_type": "execute_result",
          "data": {
            "text/plain": [
              "(dask.dataframe.core.DataFrame,\n",
              " pandas.core.frame.DataFrame,\n",
              " pandas.core.frame.DataFrame)"
            ]
          },
          "metadata": {},
          "execution_count": 14
        }
      ]
    },
    {
      "cell_type": "code",
      "metadata": {
        "id": "bUSQbgtMcQlh"
      },
      "source": [
        "clean()"
      ],
      "execution_count": 15,
      "outputs": []
    },
    {
      "cell_type": "code",
      "metadata": {
        "colab": {
          "base_uri": "https://localhost:8080/",
          "height": 235
        },
        "id": "ZfYnEs-fcVnJ",
        "outputId": "47549242-9b58-4f1f-978d-ea13c08831d1"
      },
      "source": [
        "pd.DataFrame(stats)"
      ],
      "execution_count": 16,
      "outputs": [
        {
          "output_type": "execute_result",
          "data": {
            "text/html": [
              "<div>\n",
              "<style scoped>\n",
              "    .dataframe tbody tr th:only-of-type {\n",
              "        vertical-align: middle;\n",
              "    }\n",
              "\n",
              "    .dataframe tbody tr th {\n",
              "        vertical-align: top;\n",
              "    }\n",
              "\n",
              "    .dataframe thead th {\n",
              "        text-align: right;\n",
              "    }\n",
              "</style>\n",
              "<table border=\"1\" class=\"dataframe\">\n",
              "  <thead>\n",
              "    <tr style=\"text-align: right;\">\n",
              "      <th></th>\n",
              "      <th>pandas</th>\n",
              "      <th>dask</th>\n",
              "    </tr>\n",
              "  </thead>\n",
              "  <tbody>\n",
              "    <tr>\n",
              "      <th>load_transactions</th>\n",
              "      <td>6.983413</td>\n",
              "      <td>0.093448</td>\n",
              "    </tr>\n",
              "    <tr>\n",
              "      <th>load_identity</th>\n",
              "      <td>0.539676</td>\n",
              "      <td>0.019784</td>\n",
              "    </tr>\n",
              "    <tr>\n",
              "      <th>merge</th>\n",
              "      <td>0.740309</td>\n",
              "      <td>0.046880</td>\n",
              "    </tr>\n",
              "    <tr>\n",
              "      <th>aggregation</th>\n",
              "      <td>0.034468</td>\n",
              "      <td>7.912935</td>\n",
              "    </tr>\n",
              "    <tr>\n",
              "      <th>sorting</th>\n",
              "      <td>0.395429</td>\n",
              "      <td>17.996132</td>\n",
              "    </tr>\n",
              "    <tr>\n",
              "      <th>value_counts</th>\n",
              "      <td>0.001978</td>\n",
              "      <td>NaN</td>\n",
              "    </tr>\n",
              "  </tbody>\n",
              "</table>\n",
              "</div>"
            ],
            "text/plain": [
              "                     pandas       dask\n",
              "load_transactions  6.983413   0.093448\n",
              "load_identity      0.539676   0.019784\n",
              "merge              0.740309   0.046880\n",
              "aggregation        0.034468   7.912935\n",
              "sorting            0.395429  17.996132\n",
              "value_counts       0.001978        NaN"
            ]
          },
          "metadata": {},
          "execution_count": 16
        }
      ]
    },
    {
      "cell_type": "code",
      "metadata": {
        "id": "ROJ61QEUccdi"
      },
      "source": [
        "stats[\"dask_indexed\"] = {}\n",
        "s = stats[\"dask_indexed\"]\n",
        "\n",
        "ts = time()\n",
        "df = dd.read_csv(paths[0]).set_index(\"TransactionID\")\n",
        "te = time()\n",
        "s[\"load_transactions\"] = te-ts\n",
        "\n",
        "ts = time()\n",
        "df2 = dd.read_csv(paths[1]).set_index(\"TransactionID\")\n",
        "te = time()\n",
        "s[\"load_identity\"] = te-ts\n",
        "\n",
        "ts = time()\n",
        "dff = df.merge(df2, left_index=True, right_index=True)\n",
        "te = time()\n",
        "s[\"merge\"] = te-ts\n",
        "\n",
        "# the difference is that we call compute method, which runs all the computations at this point\n",
        "ts = time()\n",
        "grp = dff.groupby([\"isFraud\",\"ProductCD\",\"card4\",\"card6\",\"id_15\",\"id_31\"])[\"TransactionAmt\"]\\\n",
        "    .agg([\"mean\",\"sum\"])\\\n",
        "    .compute()\n",
        "te = time()\n",
        "s[\"aggregation\"] = te-ts\n",
        "\n",
        "# parallel soring is tricky that is why there are only work arounds in dask. \n",
        "ts = time()\n",
        "dff.set_index(\"card1\").compute()\n",
        "te = time()\n",
        "s[\"sorting\"] = te-ts"
      ],
      "execution_count": 18,
      "outputs": []
    },
    {
      "cell_type": "code",
      "metadata": {
        "colab": {
          "base_uri": "https://localhost:8080/",
          "height": 235
        },
        "id": "nTyZHOIOcgAy",
        "outputId": "230d466c-8b77-482b-bae1-bb88f2b59a35"
      },
      "source": [
        "clean()\n",
        "pd.DataFrame(stats)"
      ],
      "execution_count": 19,
      "outputs": [
        {
          "output_type": "execute_result",
          "data": {
            "text/html": [
              "<div>\n",
              "<style scoped>\n",
              "    .dataframe tbody tr th:only-of-type {\n",
              "        vertical-align: middle;\n",
              "    }\n",
              "\n",
              "    .dataframe tbody tr th {\n",
              "        vertical-align: top;\n",
              "    }\n",
              "\n",
              "    .dataframe thead th {\n",
              "        text-align: right;\n",
              "    }\n",
              "</style>\n",
              "<table border=\"1\" class=\"dataframe\">\n",
              "  <thead>\n",
              "    <tr style=\"text-align: right;\">\n",
              "      <th></th>\n",
              "      <th>pandas</th>\n",
              "      <th>dask</th>\n",
              "      <th>dask_indexed</th>\n",
              "    </tr>\n",
              "  </thead>\n",
              "  <tbody>\n",
              "    <tr>\n",
              "      <th>load_transactions</th>\n",
              "      <td>6.983413</td>\n",
              "      <td>0.093448</td>\n",
              "      <td>7.207852</td>\n",
              "    </tr>\n",
              "    <tr>\n",
              "      <th>load_identity</th>\n",
              "      <td>0.539676</td>\n",
              "      <td>0.019784</td>\n",
              "      <td>0.643515</td>\n",
              "    </tr>\n",
              "    <tr>\n",
              "      <th>merge</th>\n",
              "      <td>0.740309</td>\n",
              "      <td>0.046880</td>\n",
              "      <td>0.038707</td>\n",
              "    </tr>\n",
              "    <tr>\n",
              "      <th>aggregation</th>\n",
              "      <td>0.034468</td>\n",
              "      <td>7.912935</td>\n",
              "      <td>9.664391</td>\n",
              "    </tr>\n",
              "    <tr>\n",
              "      <th>sorting</th>\n",
              "      <td>0.395429</td>\n",
              "      <td>17.996132</td>\n",
              "      <td>22.026113</td>\n",
              "    </tr>\n",
              "    <tr>\n",
              "      <th>value_counts</th>\n",
              "      <td>0.001978</td>\n",
              "      <td>NaN</td>\n",
              "      <td>NaN</td>\n",
              "    </tr>\n",
              "  </tbody>\n",
              "</table>\n",
              "</div>"
            ],
            "text/plain": [
              "                     pandas       dask  dask_indexed\n",
              "load_transactions  6.983413   0.093448      7.207852\n",
              "load_identity      0.539676   0.019784      0.643515\n",
              "merge              0.740309   0.046880      0.038707\n",
              "aggregation        0.034468   7.912935      9.664391\n",
              "sorting            0.395429  17.996132     22.026113\n",
              "value_counts       0.001978        NaN           NaN"
            ]
          },
          "metadata": {},
          "execution_count": 19
        }
      ]
    },
    {
      "cell_type": "markdown",
      "metadata": {
        "id": "NUq5FzRoeo_r"
      },
      "source": [
        "**Vaex**"
      ]
    },
    {
      "cell_type": "code",
      "metadata": {
        "colab": {
          "base_uri": "https://localhost:8080/"
        },
        "id": "q_oZyi03cl2Z",
        "outputId": "1ef37b06-1efd-4ed7-c483-ebbd9130009d"
      },
      "source": [
        "vaex.__version__"
      ],
      "execution_count": 20,
      "outputs": [
        {
          "output_type": "execute_result",
          "data": {
            "text/plain": [
              "{'vaex': '4.4.0',\n",
              " 'vaex-core': '4.4.0',\n",
              " 'vaex-viz': '0.5.0',\n",
              " 'vaex-hdf5': '0.9.0',\n",
              " 'vaex-server': '0.6.0',\n",
              " 'vaex-astro': '0.8.3',\n",
              " 'vaex-jupyter': '0.6.0',\n",
              " 'vaex-ml': '0.13.0'}"
            ]
          },
          "metadata": {},
          "execution_count": 20
        }
      ]
    },
    {
      "cell_type": "code",
      "metadata": {
        "id": "JCrXZq_Ocu2K"
      },
      "source": [
        "tool = \"vaex\"\n",
        "stats[tool] = {}\n",
        "s = stats[tool]\n",
        "\n",
        "\n",
        "ts = time()\n",
        "#df = vaex.open(paths[0])\n",
        "df = vaex.from_csv(paths[0])\n",
        "te = time()\n",
        "s[\"load_transactions\"] = te-ts\n",
        "\n",
        "ts = time()\n",
        "df2 = vaex.open(paths[1])\n",
        "te = time()\n",
        "s[\"load_identity\"] = te-ts"
      ],
      "execution_count": 21,
      "outputs": []
    },
    {
      "cell_type": "code",
      "metadata": {
        "id": "A8dISQNldGi8"
      },
      "source": [
        "ts = time()\n",
        "dff = df.join(df2, on=\"TransactionID\")\n",
        "te = time()\n",
        "s[\"merge\"] = te-ts"
      ],
      "execution_count": 22,
      "outputs": []
    },
    {
      "cell_type": "code",
      "metadata": {
        "id": "-RFB0wJNe2K5"
      },
      "source": [
        "# the difference is that we call compute method, which runs all the computations at this point\n",
        "ts = time()\n",
        "\n",
        "grp = dff.groupby([\"isFraud\",\"ProductCD\",\"card4\",\"card6\",\"id_15\",\"id_31\"], \n",
        "                  agg={'TransactionAmt':[\"mean\",\"sum\"]})\n",
        "\n",
        "# alternatively\n",
        "#grp = dff.groupby([dff[\"isFraud\"],dff[\"ProductCD\"],dff[\"card4\"],dff[\"card6\"],dff[\"id_15\"],dff[\"id_31\"]], \n",
        "#                  agg=[vaex.agg.mean('TransactionAmt'), vaex.agg.sum('TransactionAmt')])\n",
        "\n",
        "\n",
        "te = time()\n",
        "s[\"aggregation\"] = te-ts"
      ],
      "execution_count": 23,
      "outputs": []
    },
    {
      "cell_type": "code",
      "metadata": {
        "id": "y9LkVcPle5xI"
      },
      "source": [
        "# the difference is that we call compute method, which runs all the computations at this point\n",
        "ts = time()\n",
        "dff_s = dff.sort(by=[\"card1\",\"addr1\",\"D9\"])\n",
        "dff_s = dff.sort(by=[\"addr1\",\"D9\",\"card1\"])\n",
        "dff_s = dff.sort(by=[\"D9\",\"card1\",\"addr1\"])\n",
        "te = time()\n",
        "s[\"sorting\"] = te-ts"
      ],
      "execution_count": 24,
      "outputs": []
    },
    {
      "cell_type": "code",
      "metadata": {
        "id": "UCVID2pee9F0"
      },
      "source": [
        "ts = time()\n",
        "dff[\"card2\"].value_counts()\n",
        "te = time()\n",
        "s[\"value_counts\"] = te-ts"
      ],
      "execution_count": 25,
      "outputs": []
    },
    {
      "cell_type": "code",
      "metadata": {
        "colab": {
          "base_uri": "https://localhost:8080/",
          "height": 235
        },
        "id": "y2qK0CuhfCzn",
        "outputId": "a9177bf0-fda9-43ca-d581-7ac5267feff4"
      },
      "source": [
        "pd.DataFrame(stats)"
      ],
      "execution_count": 26,
      "outputs": [
        {
          "output_type": "execute_result",
          "data": {
            "text/html": [
              "<div>\n",
              "<style scoped>\n",
              "    .dataframe tbody tr th:only-of-type {\n",
              "        vertical-align: middle;\n",
              "    }\n",
              "\n",
              "    .dataframe tbody tr th {\n",
              "        vertical-align: top;\n",
              "    }\n",
              "\n",
              "    .dataframe thead th {\n",
              "        text-align: right;\n",
              "    }\n",
              "</style>\n",
              "<table border=\"1\" class=\"dataframe\">\n",
              "  <thead>\n",
              "    <tr style=\"text-align: right;\">\n",
              "      <th></th>\n",
              "      <th>pandas</th>\n",
              "      <th>dask</th>\n",
              "      <th>dask_indexed</th>\n",
              "      <th>vaex</th>\n",
              "    </tr>\n",
              "  </thead>\n",
              "  <tbody>\n",
              "    <tr>\n",
              "      <th>load_transactions</th>\n",
              "      <td>6.983413</td>\n",
              "      <td>0.093448</td>\n",
              "      <td>7.207852</td>\n",
              "      <td>8.861584</td>\n",
              "    </tr>\n",
              "    <tr>\n",
              "      <th>load_identity</th>\n",
              "      <td>0.539676</td>\n",
              "      <td>0.019784</td>\n",
              "      <td>0.643515</td>\n",
              "      <td>0.957561</td>\n",
              "    </tr>\n",
              "    <tr>\n",
              "      <th>merge</th>\n",
              "      <td>0.740309</td>\n",
              "      <td>0.046880</td>\n",
              "      <td>0.038707</td>\n",
              "      <td>0.092737</td>\n",
              "    </tr>\n",
              "    <tr>\n",
              "      <th>aggregation</th>\n",
              "      <td>0.034468</td>\n",
              "      <td>7.912935</td>\n",
              "      <td>9.664391</td>\n",
              "      <td>0.751929</td>\n",
              "    </tr>\n",
              "    <tr>\n",
              "      <th>sorting</th>\n",
              "      <td>0.395429</td>\n",
              "      <td>17.996132</td>\n",
              "      <td>22.026113</td>\n",
              "      <td>0.247333</td>\n",
              "    </tr>\n",
              "    <tr>\n",
              "      <th>value_counts</th>\n",
              "      <td>0.001978</td>\n",
              "      <td>NaN</td>\n",
              "      <td>NaN</td>\n",
              "      <td>0.010245</td>\n",
              "    </tr>\n",
              "  </tbody>\n",
              "</table>\n",
              "</div>"
            ],
            "text/plain": [
              "                     pandas       dask  dask_indexed      vaex\n",
              "load_transactions  6.983413   0.093448      7.207852  8.861584\n",
              "load_identity      0.539676   0.019784      0.643515  0.957561\n",
              "merge              0.740309   0.046880      0.038707  0.092737\n",
              "aggregation        0.034468   7.912935      9.664391  0.751929\n",
              "sorting            0.395429  17.996132     22.026113  0.247333\n",
              "value_counts       0.001978        NaN           NaN  0.010245"
            ]
          },
          "metadata": {},
          "execution_count": 26
        }
      ]
    },
    {
      "cell_type": "code",
      "metadata": {
        "id": "g5fP0MjXfE_k"
      },
      "source": [
        "clean()"
      ],
      "execution_count": 27,
      "outputs": []
    },
    {
      "cell_type": "markdown",
      "metadata": {
        "id": "_KAastOsfM65"
      },
      "source": [
        "PySpark"
      ]
    },
    {
      "cell_type": "code",
      "metadata": {
        "id": "PD9q4qWSfPfn"
      },
      "source": [
        "from pyspark import SparkContext\n",
        "sc = SparkContext()\n",
        "sc.version\n",
        "sc.stop()"
      ],
      "execution_count": 28,
      "outputs": []
    },
    {
      "cell_type": "code",
      "metadata": {
        "id": "uYQYsFQVfXga"
      },
      "source": [
        "# Create my_spark\n",
        "my_spark = SparkSession.builder \\\n",
        "    .master(\"local\") \\\n",
        "    .appName(\"Pandas Alternative\") \\\n",
        "    .config(\"spark.some.config.option\", \"some-value\") \\\n",
        "    .getOrCreate()"
      ],
      "execution_count": 29,
      "outputs": []
    },
    {
      "cell_type": "code",
      "metadata": {
        "id": "WU6UsttffbC-"
      },
      "source": [
        "tool = \"spark\"\n",
        "stats[tool] = {}\n",
        "s = stats[tool]\n",
        "\n",
        "\n",
        "ts = time()\n",
        "df = my_spark.read.csv(paths[0],inferSchema = True,header= True) \n",
        "te = time()\n",
        "s[\"load_transactions\"] = te-ts\n",
        "\n",
        "ts = time()\n",
        "df2 = my_spark.read.csv(paths[1],inferSchema = True,header= True) \n",
        "te = time()\n",
        "s[\"load_identity\"] = te-ts"
      ],
      "execution_count": 30,
      "outputs": []
    },
    {
      "cell_type": "code",
      "metadata": {
        "id": "VLkFrYpEfe-2"
      },
      "source": [
        "ts = time()\n",
        "dff = df.join(df2, \"TransactionID\")\n",
        "te = time()\n",
        "s[\"merge\"] = te-ts"
      ],
      "execution_count": 31,
      "outputs": []
    },
    {
      "cell_type": "code",
      "metadata": {
        "id": "0YIipBK0fkys"
      },
      "source": [
        "# the difference is that we call collect method, which runs all the computations at this point\n",
        "#ts = time()\n",
        "#grp = dff.groupby([dff[\"isFraud\"],dff[\"ProductCD\"],dff[\"card4\"],dff[\"card6\"],dff[\"id_15\"],dff[\"id_31\"]]) \\\n",
        "#        .agg(avg(\"TransactionAmt\"), sum(\"TransactionAmt\"))\\\n",
        "#        .collect()\n",
        "#te = time()\n",
        "#s[\"aggregation\"] = te-ts\n",
        "#s[\"all\"] = te-tss"
      ],
      "execution_count": null,
      "outputs": []
    },
    {
      "cell_type": "code",
      "metadata": {
        "id": "HXjm_b5ffnCS"
      },
      "source": [
        "# the difference is that we call collect method, which runs all the computations at this point\n",
        "ts = time()\n",
        "grp = dff.groupby([\"isFraud\",\"ProductCD\",\"card4\",\"card6\",\"id_15\",\"id_31\"]) \\\n",
        "        .agg(avg(\"TransactionAmt\"), sum(\"TransactionAmt\"))\\\n",
        "        .collect()\n",
        "te = time()\n",
        "s[\"aggregation\"] = te-ts"
      ],
      "execution_count": 32,
      "outputs": []
    },
    {
      "cell_type": "code",
      "metadata": {
        "id": "YbwP0tyifxtH"
      },
      "source": [
        "ts = time()\n",
        "dff.orderBy(\"card1\",\"addr1\",\"D9\").collect()\n",
        "# alternatively\n",
        "# dff.sort(\"card1\",\"addr1\",\"D9\").collect()\n",
        "te = time()\n",
        "s[\"sorting\"] = te-ts"
      ],
      "execution_count": 33,
      "outputs": []
    },
    {
      "cell_type": "code",
      "metadata": {
        "id": "1sQ-xW_Jf1VF"
      },
      "source": [
        "ts = time()\n",
        "dff.select(\"card2\").distinct().collect()\n",
        "te = time()\n",
        "s[\"value_counts\"] = te-ts"
      ],
      "execution_count": 34,
      "outputs": []
    },
    {
      "cell_type": "code",
      "metadata": {
        "colab": {
          "base_uri": "https://localhost:8080/",
          "height": 266
        },
        "id": "lfyk9cYdgSi2",
        "outputId": "7f91695b-e426-49f8-d26e-db6e877a6ff0"
      },
      "source": [
        "stats_df = pd.DataFrame(stats)\n",
        "stats_df.loc['Total'] = stats_df.sum()\n",
        "stats_df"
      ],
      "execution_count": 35,
      "outputs": [
        {
          "output_type": "execute_result",
          "data": {
            "text/html": [
              "<div>\n",
              "<style scoped>\n",
              "    .dataframe tbody tr th:only-of-type {\n",
              "        vertical-align: middle;\n",
              "    }\n",
              "\n",
              "    .dataframe tbody tr th {\n",
              "        vertical-align: top;\n",
              "    }\n",
              "\n",
              "    .dataframe thead th {\n",
              "        text-align: right;\n",
              "    }\n",
              "</style>\n",
              "<table border=\"1\" class=\"dataframe\">\n",
              "  <thead>\n",
              "    <tr style=\"text-align: right;\">\n",
              "      <th></th>\n",
              "      <th>pandas</th>\n",
              "      <th>dask</th>\n",
              "      <th>dask_indexed</th>\n",
              "      <th>vaex</th>\n",
              "      <th>spark</th>\n",
              "    </tr>\n",
              "  </thead>\n",
              "  <tbody>\n",
              "    <tr>\n",
              "      <th>load_transactions</th>\n",
              "      <td>6.983413</td>\n",
              "      <td>0.093448</td>\n",
              "      <td>7.207852</td>\n",
              "      <td>8.861584</td>\n",
              "      <td>19.301409</td>\n",
              "    </tr>\n",
              "    <tr>\n",
              "      <th>load_identity</th>\n",
              "      <td>0.539676</td>\n",
              "      <td>0.019784</td>\n",
              "      <td>0.643515</td>\n",
              "      <td>0.957561</td>\n",
              "      <td>1.490996</td>\n",
              "    </tr>\n",
              "    <tr>\n",
              "      <th>merge</th>\n",
              "      <td>0.740309</td>\n",
              "      <td>0.046880</td>\n",
              "      <td>0.038707</td>\n",
              "      <td>0.092737</td>\n",
              "      <td>0.304121</td>\n",
              "    </tr>\n",
              "    <tr>\n",
              "      <th>aggregation</th>\n",
              "      <td>0.034468</td>\n",
              "      <td>7.912935</td>\n",
              "      <td>9.664391</td>\n",
              "      <td>0.751929</td>\n",
              "      <td>12.733488</td>\n",
              "    </tr>\n",
              "    <tr>\n",
              "      <th>sorting</th>\n",
              "      <td>0.395429</td>\n",
              "      <td>17.996132</td>\n",
              "      <td>22.026113</td>\n",
              "      <td>0.247333</td>\n",
              "      <td>96.281583</td>\n",
              "    </tr>\n",
              "    <tr>\n",
              "      <th>value_counts</th>\n",
              "      <td>0.001978</td>\n",
              "      <td>NaN</td>\n",
              "      <td>NaN</td>\n",
              "      <td>0.010245</td>\n",
              "      <td>6.805352</td>\n",
              "    </tr>\n",
              "    <tr>\n",
              "      <th>Total</th>\n",
              "      <td>8.695272</td>\n",
              "      <td>26.069179</td>\n",
              "      <td>39.580577</td>\n",
              "      <td>10.921389</td>\n",
              "      <td>136.916949</td>\n",
              "    </tr>\n",
              "  </tbody>\n",
              "</table>\n",
              "</div>"
            ],
            "text/plain": [
              "                     pandas       dask  dask_indexed       vaex       spark\n",
              "load_transactions  6.983413   0.093448      7.207852   8.861584   19.301409\n",
              "load_identity      0.539676   0.019784      0.643515   0.957561    1.490996\n",
              "merge              0.740309   0.046880      0.038707   0.092737    0.304121\n",
              "aggregation        0.034468   7.912935      9.664391   0.751929   12.733488\n",
              "sorting            0.395429  17.996132     22.026113   0.247333   96.281583\n",
              "value_counts       0.001978        NaN           NaN   0.010245    6.805352\n",
              "Total              8.695272  26.069179     39.580577  10.921389  136.916949"
            ]
          },
          "metadata": {},
          "execution_count": 35
        }
      ]
    },
    {
      "cell_type": "markdown",
      "metadata": {
        "id": "T_KzK_DqgNL-"
      },
      "source": [
        "**Modin**"
      ]
    },
    {
      "cell_type": "code",
      "metadata": {
        "colab": {
          "base_uri": "https://localhost:8080/",
          "height": 35
        },
        "id": "OLvcRqlSgU_5",
        "outputId": "189057c2-8301-47f3-bd88-a880ef468a91"
      },
      "source": [
        "mpd.__version__"
      ],
      "execution_count": 36,
      "outputs": [
        {
          "output_type": "execute_result",
          "data": {
            "application/vnd.google.colaboratory.intrinsic+json": {
              "type": "string"
            },
            "text/plain": [
              "'0.10.2'"
            ]
          },
          "metadata": {},
          "execution_count": 36
        }
      ]
    },
    {
      "cell_type": "code",
      "metadata": {
        "colab": {
          "base_uri": "https://localhost:8080/"
        },
        "id": "orh8A2ChgaA5",
        "outputId": "6085ae7f-34c7-421c-aa65-2b33cc120274"
      },
      "source": [
        "tool = \"modin\"\n",
        "stats[tool] = {}\n",
        "s = stats[tool]\n",
        "\n",
        "\n",
        "ts = time()\n",
        "df = mpd.read_csv(paths[0])\n",
        "te = time()\n",
        "s[\"load_transactions\"] = te-ts\n",
        "\n",
        "ts = time()\n",
        "df2 = mpd.read_csv(paths[1])\n",
        "te = time()\n",
        "s[\"load_identity\"] = te-ts\n",
        "\n",
        "ts = time()\n",
        "dff = df.merge(df2, on=\"TransactionID\")\n",
        "te = time()\n",
        "s[\"merge\"] = te-ts\n",
        "\n",
        "# modin defaults to pandas for multiple column aggregation and then fails on KeyError, though the key is available\n",
        "ts = time()\n",
        "try:\n",
        "    grp = dff.groupby([\"isFraud\",\"ProductCD\",\"card4\",\"card6\",\"id_15\",\"id_31\"])[\"TransactionAmt\"].agg([\"mean\",\"sum\"])\n",
        "except Exception as e:\n",
        "    print(e)\n",
        "te = time()\n",
        "s[\"aggregation\"] = te-ts"
      ],
      "execution_count": 37,
      "outputs": [
        {
          "output_type": "stream",
          "text": [
            "UserWarning: Ray execution environment not yet initialized. Initializing...\n",
            "To remove this warning, run the following python code before doing dataframe operations:\n",
            "\n",
            "    import ray\n",
            "    ray.init()\n",
            "\n",
            "UserWarning: The size of /dev/shm is too small (6308233216 bytes). The required size at least half of RAM (6811099136 bytes). Please, delete files in /dev/shm or increase size of /dev/shm with --shm-size in Docker. Also, you can set the required memory size for each Ray worker in bytes to MODIN_MEMORY environment variable.\n",
            "UserWarning: `DataFrame.groupby_on_multiple_columns` defaulting to pandas implementation.\n",
            "To request implementation, send an email to feature_requests@modin.org.\n"
          ],
          "name": "stderr"
        },
        {
          "output_type": "stream",
          "text": [
            "'isFraud'\n"
          ],
          "name": "stdout"
        },
        {
          "output_type": "stream",
          "text": [
            "FutureWarning: The `squeeze` parameter is deprecated and will be removed in a future version.\n"
          ],
          "name": "stderr"
        }
      ]
    },
    {
      "cell_type": "code",
      "metadata": {
        "colab": {
          "base_uri": "https://localhost:8080/",
          "height": 235
        },
        "id": "daA4ghAJgjiu",
        "outputId": "626dc989-d813-4073-9906-de33012d3030"
      },
      "source": [
        "pd.DataFrame(stats)"
      ],
      "execution_count": 38,
      "outputs": [
        {
          "output_type": "execute_result",
          "data": {
            "text/html": [
              "<div>\n",
              "<style scoped>\n",
              "    .dataframe tbody tr th:only-of-type {\n",
              "        vertical-align: middle;\n",
              "    }\n",
              "\n",
              "    .dataframe tbody tr th {\n",
              "        vertical-align: top;\n",
              "    }\n",
              "\n",
              "    .dataframe thead th {\n",
              "        text-align: right;\n",
              "    }\n",
              "</style>\n",
              "<table border=\"1\" class=\"dataframe\">\n",
              "  <thead>\n",
              "    <tr style=\"text-align: right;\">\n",
              "      <th></th>\n",
              "      <th>pandas</th>\n",
              "      <th>dask</th>\n",
              "      <th>dask_indexed</th>\n",
              "      <th>vaex</th>\n",
              "      <th>spark</th>\n",
              "      <th>modin</th>\n",
              "    </tr>\n",
              "  </thead>\n",
              "  <tbody>\n",
              "    <tr>\n",
              "      <th>load_transactions</th>\n",
              "      <td>6.983413</td>\n",
              "      <td>0.093448</td>\n",
              "      <td>7.207852</td>\n",
              "      <td>8.861584</td>\n",
              "      <td>19.301409</td>\n",
              "      <td>18.133374</td>\n",
              "    </tr>\n",
              "    <tr>\n",
              "      <th>load_identity</th>\n",
              "      <td>0.539676</td>\n",
              "      <td>0.019784</td>\n",
              "      <td>0.643515</td>\n",
              "      <td>0.957561</td>\n",
              "      <td>1.490996</td>\n",
              "      <td>0.766373</td>\n",
              "    </tr>\n",
              "    <tr>\n",
              "      <th>merge</th>\n",
              "      <td>0.740309</td>\n",
              "      <td>0.046880</td>\n",
              "      <td>0.038707</td>\n",
              "      <td>0.092737</td>\n",
              "      <td>0.304121</td>\n",
              "      <td>4.958086</td>\n",
              "    </tr>\n",
              "    <tr>\n",
              "      <th>aggregation</th>\n",
              "      <td>0.034468</td>\n",
              "      <td>7.912935</td>\n",
              "      <td>9.664391</td>\n",
              "      <td>0.751929</td>\n",
              "      <td>12.733488</td>\n",
              "      <td>0.310359</td>\n",
              "    </tr>\n",
              "    <tr>\n",
              "      <th>sorting</th>\n",
              "      <td>0.395429</td>\n",
              "      <td>17.996132</td>\n",
              "      <td>22.026113</td>\n",
              "      <td>0.247333</td>\n",
              "      <td>96.281583</td>\n",
              "      <td>NaN</td>\n",
              "    </tr>\n",
              "    <tr>\n",
              "      <th>value_counts</th>\n",
              "      <td>0.001978</td>\n",
              "      <td>NaN</td>\n",
              "      <td>NaN</td>\n",
              "      <td>0.010245</td>\n",
              "      <td>6.805352</td>\n",
              "      <td>NaN</td>\n",
              "    </tr>\n",
              "  </tbody>\n",
              "</table>\n",
              "</div>"
            ],
            "text/plain": [
              "                     pandas       dask  ...      spark      modin\n",
              "load_transactions  6.983413   0.093448  ...  19.301409  18.133374\n",
              "load_identity      0.539676   0.019784  ...   1.490996   0.766373\n",
              "merge              0.740309   0.046880  ...   0.304121   4.958086\n",
              "aggregation        0.034468   7.912935  ...  12.733488   0.310359\n",
              "sorting            0.395429  17.996132  ...  96.281583        NaN\n",
              "value_counts       0.001978        NaN  ...   6.805352        NaN\n",
              "\n",
              "[6 rows x 6 columns]"
            ]
          },
          "metadata": {},
          "execution_count": 38
        }
      ]
    },
    {
      "cell_type": "code",
      "metadata": {
        "id": "w_bBQpPEgpY4"
      },
      "source": [
        "clean()"
      ],
      "execution_count": 39,
      "outputs": []
    },
    {
      "cell_type": "code",
      "metadata": {
        "id": "FcK77pFegwgV"
      },
      "source": [
        "pd.DataFrame(stats).to_csv(\"statistics.csv\")"
      ],
      "execution_count": 40,
      "outputs": []
    },
    {
      "cell_type": "markdown",
      "metadata": {
        "id": "6hTZSLMJg5ke"
      },
      "source": [
        "# **Performance test**"
      ]
    },
    {
      "cell_type": "code",
      "metadata": {
        "id": "no-kNVSvg7v8"
      },
      "source": [
        "import psutil\n",
        "import numpy as np"
      ],
      "execution_count": 41,
      "outputs": []
    },
    {
      "cell_type": "code",
      "metadata": {
        "colab": {
          "base_uri": "https://localhost:8080/"
        },
        "id": "kHj1E8vdhBDv",
        "outputId": "40cbd3e7-32d0-4ac7-f8bc-74b1bae8dcb2"
      },
      "source": [
        "# use psutil to check for system resources\n",
        "psutil.cpu_percent(), psutil.virtual_memory().percent"
      ],
      "execution_count": 42,
      "outputs": [
        {
          "output_type": "execute_result",
          "data": {
            "text/plain": [
              "(28.8, 36.2)"
            ]
          },
          "metadata": {},
          "execution_count": 42
        }
      ]
    },
    {
      "cell_type": "code",
      "metadata": {
        "id": "J6outJIfhGph"
      },
      "source": [
        "def system_resources(n, pause, cpu_threshold = 0.5, mem_threshold = 0.5):\n",
        "    \n",
        "    cpu_m = []\n",
        "    mem_m = []\n",
        "    cpu_treshold_breached = False\n",
        "    mem_treshold_breached = False\n",
        "    \n",
        "    for i in range(n):\n",
        "        cpu_m.append(psutil.cpu_percent())\n",
        "        mem_m.append(psutil.virtual_memory().percent)\n",
        "        sleep(pause)\n",
        "    cpu_m = np.mean(cpu_m)\n",
        "    mem_m = np.mean(mem_m)\n",
        "    \n",
        "    if cpu_m / 100 > cpu_threshold:\n",
        "        cpu_treshold_breached = True\n",
        "        \n",
        "    if mem_m / 100 > mem_threshold:\n",
        "        mem_treshold_breached = True\n",
        "    \n",
        "    return {\"cpu\": cpu_m, \"memory\": mem_m, \"cpu_threshold\": cpu_treshold_breached, \"mem_threshold\": mem_treshold_breached }\n"
      ],
      "execution_count": 43,
      "outputs": []
    },
    {
      "cell_type": "code",
      "metadata": {
        "colab": {
          "base_uri": "https://localhost:8080/"
        },
        "id": "bLRbAeYZhJW4",
        "outputId": "84a38ea9-a863-4dbf-c5a0-14fc250ff53f"
      },
      "source": [
        "system_resources(3, 1)"
      ],
      "execution_count": 44,
      "outputs": [
        {
          "output_type": "execute_result",
          "data": {
            "text/plain": [
              "{'cpu': 8.433333333333334,\n",
              " 'memory': 36.2,\n",
              " 'cpu_threshold': False,\n",
              " 'mem_threshold': False}"
            ]
          },
          "metadata": {},
          "execution_count": 44
        }
      ]
    },
    {
      "cell_type": "code",
      "metadata": {
        "id": "_XNElBw8hQB9"
      },
      "source": [
        "class Events:\n",
        "    \n",
        "    def __init__(self, path):\n",
        "        self.file = open(path, 'a', encoding='utf-8')\n",
        "        \n",
        "    def log(self, time, tool, operation, duration):\n",
        "        print(\"|\".join([strftime('%Y-%m-%d %H:%M:%S', localtime(te)),tool,operation,str(duration)])+\"\\n\")\n",
        "        print(self.file)\n",
        "        self.file.write(\"|\".join([strftime('%Y-%m-%d %H:%M:%S', localtime(te)),tool,operation,str(duration)])+\"\\n\")\n",
        "        \n",
        "    def close(self):\n",
        "        self.file.close()"
      ],
      "execution_count": 45,
      "outputs": []
    },
    {
      "cell_type": "code",
      "metadata": {
        "id": "xOTa36IthSze"
      },
      "source": [
        "logger = Events(\"example.log\")"
      ],
      "execution_count": 46,
      "outputs": []
    },
    {
      "cell_type": "code",
      "metadata": {
        "colab": {
          "base_uri": "https://localhost:8080/"
        },
        "id": "Keqw6SAWhWY5",
        "outputId": "e9232a88-fcc9-433f-becf-6ea0f0d06de5"
      },
      "source": [
        "ts = time()\n",
        "df = pd.read_csv(paths[1])\n",
        "te = time()\n",
        "logger.log(te, \"pandas\", \"load\",  te-ts)"
      ],
      "execution_count": 47,
      "outputs": [
        {
          "output_type": "stream",
          "text": [
            "2021-08-30 00:46:18|pandas|load|0.681859016418457\n",
            "\n",
            "<_io.TextIOWrapper name='example.log' mode='a' encoding='utf-8'>\n"
          ],
          "name": "stdout"
        }
      ]
    },
    {
      "cell_type": "code",
      "metadata": {
        "colab": {
          "base_uri": "https://localhost:8080/"
        },
        "id": "Pf13LfWshaq0",
        "outputId": "410a14dd-a6ed-4735-f7d1-9ba04b3f7faa"
      },
      "source": [
        "logger.file.write(\"|\".join([strftime('%Y-%m-%d %H:%M:%S', localtime(te)),\"pandas\",\"load\",str(ts-te)])+\"\\n\")"
      ],
      "execution_count": 48,
      "outputs": [
        {
          "output_type": "execute_result",
          "data": {
            "text/plain": [
              "51"
            ]
          },
          "metadata": {},
          "execution_count": 48
        }
      ]
    },
    {
      "cell_type": "code",
      "metadata": {
        "id": "0YfMA9b6hfAp"
      },
      "source": [
        "te = time()"
      ],
      "execution_count": 49,
      "outputs": []
    },
    {
      "cell_type": "code",
      "metadata": {
        "id": "JeSTrBNPhnG-"
      },
      "source": [
        "import logging\n",
        "logging.basicConfig(filename='sample_data/data/lexample.log', level=logging.DEBUG)\n"
      ],
      "execution_count": 51,
      "outputs": []
    },
    {
      "cell_type": "code",
      "metadata": {
        "id": "685KepDbiJji"
      },
      "source": [
        "logging.info('This is an info message')"
      ],
      "execution_count": 52,
      "outputs": []
    }
  ]
}